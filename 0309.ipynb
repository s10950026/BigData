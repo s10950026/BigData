{
  "nbformat": 4,
  "nbformat_minor": 0,
  "metadata": {
    "colab": {
      "name": "0309.ipynb",
      "provenance": [],
      "collapsed_sections": [],
      "include_colab_link": true
    },
    "kernelspec": {
      "display_name": "R",
      "name": "ir"
    }
  },
  "cells": [
    {
      "cell_type": "markdown",
      "metadata": {
        "id": "view-in-github",
        "colab_type": "text"
      },
      "source": [
        "<a href=\"https://colab.research.google.com/github/s10950026/bigdata/blob/main/0309.ipynb\" target=\"_parent\"><img src=\"https://colab.research.google.com/assets/colab-badge.svg\" alt=\"Open In Colab\"/></a>"
      ]
    },
    {
      "cell_type": "code",
      "metadata": {
        "id": "TH621Hp0EHD1"
      },
      "source": [
        "a <- 5\r\n",
        "b <- 3.14\r\n",
        "c <- -1618\r\n",
        "d <- \"HELLO\""
      ],
      "execution_count": 17,
      "outputs": []
    },
    {
      "cell_type": "code",
      "metadata": {
        "colab": {
          "base_uri": "https://localhost:8080/"
        },
        "id": "Pm68Tc5iEhLC",
        "outputId": "cdbdba5a-c171-4c86-cc18-d345853d76f1"
      },
      "source": [
        "str(a)\r\n",
        "str(b)\r\n",
        "str(c)\r\n",
        "str(d)"
      ],
      "execution_count": 18,
      "outputs": [
        {
          "output_type": "stream",
          "text": [
            " num 5\n",
            " num 3.14\n",
            " num -1618\n",
            " chr \"HELLO\"\n"
          ],
          "name": "stdout"
        }
      ]
    },
    {
      "cell_type": "code",
      "metadata": {
        "colab": {
          "base_uri": "https://localhost:8080/",
          "height": 85
        },
        "id": "ktICYFVIJAc9",
        "outputId": "fd626c05-8deb-4d50-a5cf-95d63c0ce168"
      },
      "source": [
        "is.numeric(a)\r\n",
        "is.numeric(b)\r\n",
        "is.numeric(c)\r\n",
        "is.numeric(d)"
      ],
      "execution_count": 19,
      "outputs": [
        {
          "output_type": "display_data",
          "data": {
            "text/plain": [
              "[1] TRUE"
            ],
            "text/latex": "TRUE",
            "text/markdown": "TRUE",
            "text/html": [
              "TRUE"
            ]
          },
          "metadata": {
            "tags": []
          }
        },
        {
          "output_type": "display_data",
          "data": {
            "text/plain": [
              "[1] TRUE"
            ],
            "text/latex": "TRUE",
            "text/markdown": "TRUE",
            "text/html": [
              "TRUE"
            ]
          },
          "metadata": {
            "tags": []
          }
        },
        {
          "output_type": "display_data",
          "data": {
            "text/plain": [
              "[1] TRUE"
            ],
            "text/latex": "TRUE",
            "text/markdown": "TRUE",
            "text/html": [
              "TRUE"
            ]
          },
          "metadata": {
            "tags": []
          }
        },
        {
          "output_type": "display_data",
          "data": {
            "text/plain": [
              "[1] FALSE"
            ],
            "text/latex": "FALSE",
            "text/markdown": "FALSE",
            "text/html": [
              "FALSE"
            ]
          },
          "metadata": {
            "tags": []
          }
        }
      ]
    },
    {
      "cell_type": "code",
      "metadata": {
        "colab": {
          "base_uri": "https://localhost:8080/",
          "height": 85
        },
        "id": "whodddazJFwb",
        "outputId": "37438122-a1b6-4bd3-fdd3-ec74d04edbff"
      },
      "source": [
        "is.integer(a)\r\n",
        "is.integer(b)\r\n",
        "is.integer(c)\r\n",
        "is.integer(d)"
      ],
      "execution_count": 21,
      "outputs": [
        {
          "output_type": "display_data",
          "data": {
            "text/plain": [
              "[1] FALSE"
            ],
            "text/latex": "FALSE",
            "text/markdown": "FALSE",
            "text/html": [
              "FALSE"
            ]
          },
          "metadata": {
            "tags": []
          }
        },
        {
          "output_type": "display_data",
          "data": {
            "text/plain": [
              "[1] FALSE"
            ],
            "text/latex": "FALSE",
            "text/markdown": "FALSE",
            "text/html": [
              "FALSE"
            ]
          },
          "metadata": {
            "tags": []
          }
        },
        {
          "output_type": "display_data",
          "data": {
            "text/plain": [
              "[1] FALSE"
            ],
            "text/latex": "FALSE",
            "text/markdown": "FALSE",
            "text/html": [
              "FALSE"
            ]
          },
          "metadata": {
            "tags": []
          }
        },
        {
          "output_type": "display_data",
          "data": {
            "text/plain": [
              "[1] FALSE"
            ],
            "text/latex": "FALSE",
            "text/markdown": "FALSE",
            "text/html": [
              "FALSE"
            ]
          },
          "metadata": {
            "tags": []
          }
        }
      ]
    },
    {
      "cell_type": "code",
      "metadata": {
        "colab": {
          "base_uri": "https://localhost:8080/",
          "height": 85
        },
        "id": "pE3O6AZcJmnE",
        "outputId": "9c31ca05-b8a5-4c2d-eda1-d67ae3bf71d2"
      },
      "source": [
        "is.character(a)\r\n",
        "is.character(b)\r\n",
        "is.character(c)\r\n",
        "is.character(d)"
      ],
      "execution_count": 22,
      "outputs": [
        {
          "output_type": "display_data",
          "data": {
            "text/plain": [
              "[1] FALSE"
            ],
            "text/latex": "FALSE",
            "text/markdown": "FALSE",
            "text/html": [
              "FALSE"
            ]
          },
          "metadata": {
            "tags": []
          }
        },
        {
          "output_type": "display_data",
          "data": {
            "text/plain": [
              "[1] FALSE"
            ],
            "text/latex": "FALSE",
            "text/markdown": "FALSE",
            "text/html": [
              "FALSE"
            ]
          },
          "metadata": {
            "tags": []
          }
        },
        {
          "output_type": "display_data",
          "data": {
            "text/plain": [
              "[1] FALSE"
            ],
            "text/latex": "FALSE",
            "text/markdown": "FALSE",
            "text/html": [
              "FALSE"
            ]
          },
          "metadata": {
            "tags": []
          }
        },
        {
          "output_type": "display_data",
          "data": {
            "text/plain": [
              "[1] TRUE"
            ],
            "text/latex": "TRUE",
            "text/markdown": "TRUE",
            "text/html": [
              "TRUE"
            ]
          },
          "metadata": {
            "tags": []
          }
        }
      ]
    },
    {
      "cell_type": "code",
      "metadata": {
        "id": "xKyaEYcMKCsG"
      },
      "source": [
        "e <- c(5,4,3,2,1)\r\n",
        "f <- c(\"How\",\"dare\",\"you\")"
      ],
      "execution_count": 23,
      "outputs": []
    },
    {
      "cell_type": "code",
      "metadata": {
        "colab": {
          "base_uri": "https://localhost:8080/",
          "height": 51
        },
        "id": "1vCvPWrvKXV1",
        "outputId": "41092159-c064-46be-d519-69766a70570f"
      },
      "source": [
        "e[1]\r\n",
        "f[c(1,2)]"
      ],
      "execution_count": 28,
      "outputs": [
        {
          "output_type": "display_data",
          "data": {
            "text/plain": [
              "[1] 5"
            ],
            "text/latex": "5",
            "text/markdown": "5",
            "text/html": [
              "5"
            ]
          },
          "metadata": {
            "tags": []
          }
        },
        {
          "output_type": "display_data",
          "data": {
            "text/plain": [
              "[1] \"How\"  \"dare\""
            ],
            "text/latex": "\\begin{enumerate*}\n\\item 'How'\n\\item 'dare'\n\\end{enumerate*}\n",
            "text/markdown": "1. 'How'\n2. 'dare'\n\n\n",
            "text/html": [
              "<style>\n",
              ".list-inline {list-style: none; margin:0; padding: 0}\n",
              ".list-inline>li {display: inline-block}\n",
              ".list-inline>li:not(:last-child)::after {content: \"\\00b7\"; padding: 0 .5ex}\n",
              "</style>\n",
              "<ol class=list-inline><li>'How'</li><li>'dare'</li></ol>\n"
            ]
          },
          "metadata": {
            "tags": []
          }
        }
      ]
    },
    {
      "cell_type": "code",
      "metadata": {
        "id": "uGoB9hIgNP05"
      },
      "source": [
        "g <- c(1,2,3,4,5)\r\n",
        "h <- c(1,2,3,4,5)"
      ],
      "execution_count": 31,
      "outputs": []
    },
    {
      "cell_type": "code",
      "metadata": {
        "colab": {
          "base_uri": "https://localhost:8080/",
          "height": 85
        },
        "id": "gLybWQv1NXKJ",
        "outputId": "adf37294-1151-462f-8bf8-034e86b336be"
      },
      "source": [
        "g * h\r\n",
        "g ^ 2\r\n",
        "h ^ 3\r\n",
        "g > 3"
      ],
      "execution_count": 34,
      "outputs": [
        {
          "output_type": "display_data",
          "data": {
            "text/plain": [
              "[1]  1  4  9 16 25"
            ],
            "text/latex": "\\begin{enumerate*}\n\\item 1\n\\item 4\n\\item 9\n\\item 16\n\\item 25\n\\end{enumerate*}\n",
            "text/markdown": "1. 1\n2. 4\n3. 9\n4. 16\n5. 25\n\n\n",
            "text/html": [
              "<style>\n",
              ".list-inline {list-style: none; margin:0; padding: 0}\n",
              ".list-inline>li {display: inline-block}\n",
              ".list-inline>li:not(:last-child)::after {content: \"\\00b7\"; padding: 0 .5ex}\n",
              "</style>\n",
              "<ol class=list-inline><li>1</li><li>4</li><li>9</li><li>16</li><li>25</li></ol>\n"
            ]
          },
          "metadata": {
            "tags": []
          }
        },
        {
          "output_type": "display_data",
          "data": {
            "text/plain": [
              "[1]  1  4  9 16 25"
            ],
            "text/latex": "\\begin{enumerate*}\n\\item 1\n\\item 4\n\\item 9\n\\item 16\n\\item 25\n\\end{enumerate*}\n",
            "text/markdown": "1. 1\n2. 4\n3. 9\n4. 16\n5. 25\n\n\n",
            "text/html": [
              "<style>\n",
              ".list-inline {list-style: none; margin:0; padding: 0}\n",
              ".list-inline>li {display: inline-block}\n",
              ".list-inline>li:not(:last-child)::after {content: \"\\00b7\"; padding: 0 .5ex}\n",
              "</style>\n",
              "<ol class=list-inline><li>1</li><li>4</li><li>9</li><li>16</li><li>25</li></ol>\n"
            ]
          },
          "metadata": {
            "tags": []
          }
        },
        {
          "output_type": "display_data",
          "data": {
            "text/plain": [
              "[1]   1   8  27  64 125"
            ],
            "text/latex": "\\begin{enumerate*}\n\\item 1\n\\item 8\n\\item 27\n\\item 64\n\\item 125\n\\end{enumerate*}\n",
            "text/markdown": "1. 1\n2. 8\n3. 27\n4. 64\n5. 125\n\n\n",
            "text/html": [
              "<style>\n",
              ".list-inline {list-style: none; margin:0; padding: 0}\n",
              ".list-inline>li {display: inline-block}\n",
              ".list-inline>li:not(:last-child)::after {content: \"\\00b7\"; padding: 0 .5ex}\n",
              "</style>\n",
              "<ol class=list-inline><li>1</li><li>8</li><li>27</li><li>64</li><li>125</li></ol>\n"
            ]
          },
          "metadata": {
            "tags": []
          }
        },
        {
          "output_type": "display_data",
          "data": {
            "text/plain": [
              "[1] FALSE FALSE FALSE  TRUE  TRUE"
            ],
            "text/latex": "\\begin{enumerate*}\n\\item FALSE\n\\item FALSE\n\\item FALSE\n\\item TRUE\n\\item TRUE\n\\end{enumerate*}\n",
            "text/markdown": "1. FALSE\n2. FALSE\n3. FALSE\n4. TRUE\n5. TRUE\n\n\n",
            "text/html": [
              "<style>\n",
              ".list-inline {list-style: none; margin:0; padding: 0}\n",
              ".list-inline>li {display: inline-block}\n",
              ".list-inline>li:not(:last-child)::after {content: \"\\00b7\"; padding: 0 .5ex}\n",
              "</style>\n",
              "<ol class=list-inline><li>FALSE</li><li>FALSE</li><li>FALSE</li><li>TRUE</li><li>TRUE</li></ol>\n"
            ]
          },
          "metadata": {
            "tags": []
          }
        }
      ]
    },
    {
      "cell_type": "code",
      "metadata": {
        "colab": {
          "base_uri": "https://localhost:8080/",
          "height": 34
        },
        "id": "EbbmHku5Pa54",
        "outputId": "e1cad81f-fb2c-4cf0-86b3-e09cce55f5b2"
      },
      "source": [
        "gender <- c(\"MALE\",\"FEMALE\",\"MALE\",\"FEMALE\",\"?\")\r\n",
        "gender"
      ],
      "execution_count": 38,
      "outputs": [
        {
          "output_type": "display_data",
          "data": {
            "text/plain": [
              "[1] \"MALE\"   \"FEMALE\" \"MALE\"   \"FEMALE\" \"?\"     "
            ],
            "text/latex": "\\begin{enumerate*}\n\\item 'MALE'\n\\item 'FEMALE'\n\\item 'MALE'\n\\item 'FEMALE'\n\\item '?'\n\\end{enumerate*}\n",
            "text/markdown": "1. 'MALE'\n2. 'FEMALE'\n3. 'MALE'\n4. 'FEMALE'\n5. '?'\n\n\n",
            "text/html": [
              "<style>\n",
              ".list-inline {list-style: none; margin:0; padding: 0}\n",
              ".list-inline>li {display: inline-block}\n",
              ".list-inline>li:not(:last-child)::after {content: \"\\00b7\"; padding: 0 .5ex}\n",
              "</style>\n",
              "<ol class=list-inline><li>'MALE'</li><li>'FEMALE'</li><li>'MALE'</li><li>'FEMALE'</li><li>'?'</li></ol>\n"
            ]
          },
          "metadata": {
            "tags": []
          }
        }
      ]
    },
    {
      "cell_type": "code",
      "metadata": {
        "colab": {
          "base_uri": "https://localhost:8080/",
          "height": 51
        },
        "id": "S78rKnSBPqD4",
        "outputId": "5a5d6151-219c-46b3-bcdc-74195dd86e14"
      },
      "source": [
        "gender <- factor(gender)\r\n",
        "gender"
      ],
      "execution_count": 39,
      "outputs": [
        {
          "output_type": "display_data",
          "data": {
            "text/plain": [
              "[1] MALE   FEMALE MALE   FEMALE ?     \n",
              "Levels: ? FEMALE MALE"
            ],
            "text/latex": "\\begin{enumerate*}\n\\item MALE\n\\item FEMALE\n\\item MALE\n\\item FEMALE\n\\item ?\n\\end{enumerate*}\n\n\\emph{Levels}: \\begin{enumerate*}\n\\item '?'\n\\item 'FEMALE'\n\\item 'MALE'\n\\end{enumerate*}\n",
            "text/markdown": "1. MALE\n2. FEMALE\n3. MALE\n4. FEMALE\n5. ?\n\n\n\n**Levels**: 1. '?'\n2. 'FEMALE'\n3. 'MALE'\n\n\n",
            "text/html": [
              "<style>\n",
              ".list-inline {list-style: none; margin:0; padding: 0}\n",
              ".list-inline>li {display: inline-block}\n",
              ".list-inline>li:not(:last-child)::after {content: \"\\00b7\"; padding: 0 .5ex}\n",
              "</style>\n",
              "<ol class=list-inline><li>MALE</li><li>FEMALE</li><li>MALE</li><li>FEMALE</li><li>?</li></ol>\n",
              "\n",
              "<details>\n",
              "\t<summary style=display:list-item;cursor:pointer>\n",
              "\t\t<strong>Levels</strong>:\n",
              "\t</summary>\n",
              "\t<style>\n",
              "\t.list-inline {list-style: none; margin:0; padding: 0}\n",
              "\t.list-inline>li {display: inline-block}\n",
              "\t.list-inline>li:not(:last-child)::after {content: \"\\00b7\"; padding: 0 .5ex}\n",
              "\t</style>\n",
              "\t<ol class=list-inline><li>'?'</li><li>'FEMALE'</li><li>'MALE'</li></ol>\n",
              "</details>"
            ]
          },
          "metadata": {
            "tags": []
          }
        }
      ]
    },
    {
      "cell_type": "code",
      "metadata": {
        "colab": {
          "base_uri": "https://localhost:8080/",
          "height": 291
        },
        "id": "ZixCP7eRRdPl",
        "outputId": "1152f217-5b7d-4b06-9772-2e040b2a3910"
      },
      "source": [
        "j <- matrix(c(1:6),nrow=3,ncol=2)\r\n",
        "j\r\n",
        "k <- matrix(c(7:12),nrow=2,ncol=3)\r\n",
        "k"
      ],
      "execution_count": 41,
      "outputs": [
        {
          "output_type": "display_data",
          "data": {
            "text/plain": [
              "     [,1] [,2]\n",
              "[1,] 1    4   \n",
              "[2,] 2    5   \n",
              "[3,] 3    6   "
            ],
            "text/latex": "A matrix: 3 × 2 of type int\n\\begin{tabular}{ll}\n\t 1 & 4\\\\\n\t 2 & 5\\\\\n\t 3 & 6\\\\\n\\end{tabular}\n",
            "text/markdown": "\nA matrix: 3 × 2 of type int\n\n| 1 | 4 |\n| 2 | 5 |\n| 3 | 6 |\n\n",
            "text/html": [
              "<table class=\"dataframe\">\n",
              "<caption>A matrix: 3 × 2 of type int</caption>\n",
              "<tbody>\n",
              "\t<tr><td>1</td><td>4</td></tr>\n",
              "\t<tr><td>2</td><td>5</td></tr>\n",
              "\t<tr><td>3</td><td>6</td></tr>\n",
              "</tbody>\n",
              "</table>\n"
            ]
          },
          "metadata": {
            "tags": []
          }
        },
        {
          "output_type": "display_data",
          "data": {
            "text/plain": [
              "     [,1] [,2] [,3]\n",
              "[1,] 7     9   11  \n",
              "[2,] 8    10   12  "
            ],
            "text/latex": "A matrix: 2 × 3 of type int\n\\begin{tabular}{lll}\n\t 7 &  9 & 11\\\\\n\t 8 & 10 & 12\\\\\n\\end{tabular}\n",
            "text/markdown": "\nA matrix: 2 × 3 of type int\n\n| 7 |  9 | 11 |\n| 8 | 10 | 12 |\n\n",
            "text/html": [
              "<table class=\"dataframe\">\n",
              "<caption>A matrix: 2 × 3 of type int</caption>\n",
              "<tbody>\n",
              "\t<tr><td>7</td><td> 9</td><td>11</td></tr>\n",
              "\t<tr><td>8</td><td>10</td><td>12</td></tr>\n",
              "</tbody>\n",
              "</table>\n"
            ]
          },
          "metadata": {
            "tags": []
          }
        }
      ]
    },
    {
      "cell_type": "code",
      "metadata": {
        "colab": {
          "base_uri": "https://localhost:8080/",
          "height": 68
        },
        "id": "zV-CzpkwRjTr",
        "outputId": "aeb7654c-ba84-41f4-9f84-99eb5330c4a2"
      },
      "source": [
        "j[2,2]\r\n",
        "j[,2]\r\n",
        "j[2,]"
      ],
      "execution_count": 42,
      "outputs": [
        {
          "output_type": "display_data",
          "data": {
            "text/plain": [
              "[1] 5"
            ],
            "text/latex": "5",
            "text/markdown": "5",
            "text/html": [
              "5"
            ]
          },
          "metadata": {
            "tags": []
          }
        },
        {
          "output_type": "display_data",
          "data": {
            "text/plain": [
              "[1] 4 5 6"
            ],
            "text/latex": "\\begin{enumerate*}\n\\item 4\n\\item 5\n\\item 6\n\\end{enumerate*}\n",
            "text/markdown": "1. 4\n2. 5\n3. 6\n\n\n",
            "text/html": [
              "<style>\n",
              ".list-inline {list-style: none; margin:0; padding: 0}\n",
              ".list-inline>li {display: inline-block}\n",
              ".list-inline>li:not(:last-child)::after {content: \"\\00b7\"; padding: 0 .5ex}\n",
              "</style>\n",
              "<ol class=list-inline><li>4</li><li>5</li><li>6</li></ol>\n"
            ]
          },
          "metadata": {
            "tags": []
          }
        },
        {
          "output_type": "display_data",
          "data": {
            "text/plain": [
              "[1] 2 5"
            ],
            "text/latex": "\\begin{enumerate*}\n\\item 2\n\\item 5\n\\end{enumerate*}\n",
            "text/markdown": "1. 2\n2. 5\n\n\n",
            "text/html": [
              "<style>\n",
              ".list-inline {list-style: none; margin:0; padding: 0}\n",
              ".list-inline>li {display: inline-block}\n",
              ".list-inline>li:not(:last-child)::after {content: \"\\00b7\"; padding: 0 .5ex}\n",
              "</style>\n",
              "<ol class=list-inline><li>2</li><li>5</li></ol>\n"
            ]
          },
          "metadata": {
            "tags": []
          }
        }
      ]
    },
    {
      "cell_type": "code",
      "metadata": {
        "colab": {
          "base_uri": "https://localhost:8080/"
        },
        "id": "tJTkINzRSRVE",
        "outputId": "07b6f515-6f8d-43d7-b67f-725478aee7ea"
      },
      "source": [
        "install.packages(\"SportsAnalytics\")\r\n",
        "library(SportsAnalytics)\r\n",
        "NBA1516<-fetch_NBAPlayerStatistics(\"15-16\")"
      ],
      "execution_count": 52,
      "outputs": [
        {
          "output_type": "stream",
          "text": [
            "Installing package into ‘/usr/local/lib/R/site-library’\n",
            "(as ‘lib’ is unspecified)\n",
            "\n"
          ],
          "name": "stderr"
        }
      ]
    },
    {
      "cell_type": "code",
      "metadata": {
        "colab": {
          "base_uri": "https://localhost:8080/"
        },
        "id": "FF_4faBtS522",
        "outputId": "8ec0489c-5734-42d5-ccc2-aa9e8aef10b7"
      },
      "source": [
        "str(NBA1516)"
      ],
      "execution_count": 53,
      "outputs": [
        {
          "output_type": "stream",
          "text": [
            "'data.frame':\t476 obs. of  25 variables:\n",
            " $ League             : Factor w/ 1 level \"NBA\": 1 1 1 1 1 1 1 1 1 1 ...\n",
            " $ Name               : chr  \"Quincy Acy\" \"Jordan Adams\" \"Steven Adams\" \"Arron Afflalo\" ...\n",
            " $ Team               : Factor w/ 31 levels \"ATL\",\"BOS\",\"BRO\",..: 27 15 22 20 19 13 28 26 12 15 ...\n",
            " $ Position           : Factor w/ 5 levels \"C\",\"PF\",\"PG\",..: 4 5 1 5 1 1 2 2 2 5 ...\n",
            " $ GamesPlayed        : int  59 2 80 71 59 60 74 9 79 64 ...\n",
            " $ TotalMinutesPlayed : int  877 15 2019 2359 863 802 2260 37 1601 1622 ...\n",
            " $ FieldGoalsMade     : int  119 2 261 354 150 134 536 5 191 215 ...\n",
            " $ FieldGoalsAttempted: int  214 6 426 799 314 225 1045 10 370 469 ...\n",
            " $ ThreesMade         : int  19 0 0 91 0 0 0 0 0 15 ...\n",
            " $ ThreesAttempted    : int  49 1 0 238 1 0 16 0 0 42 ...\n",
            " $ FreeThrowsMade     : int  50 3 114 110 52 60 259 0 46 90 ...\n",
            " $ FreeThrowsAttempted: int  68 5 196 131 62 84 302 0 73 138 ...\n",
            " $ OffensiveRebounds  : int  65 0 218 23 75 86 175 2 162 104 ...\n",
            " $ TotalRebounds      : int  188 2 531 266 269 288 631 6 424 297 ...\n",
            " $ Assists            : int  27 3 61 145 32 50 110 0 76 70 ...\n",
            " $ Steals             : int  29 3 42 25 19 47 38 1 26 109 ...\n",
            " $ Turnovers          : int  27 2 84 82 54 64 99 1 69 78 ...\n",
            " $ Blocks             : int  24 0 89 10 36 68 81 2 42 18 ...\n",
            " $ PersonalFouls      : int  103 2 223 142 134 139 151 1 147 175 ...\n",
            " $ Disqualifications  : int  0 0 2 1 0 1 0 0 1 1 ...\n",
            " $ TotalPoints        : int  307 7 636 909 352 328 1331 10 428 535 ...\n",
            " $ Technicals         : int  3 0 2 1 2 0 0 0 0 1 ...\n",
            " $ Ejections          : int  0 0 0 0 0 0 0 0 0 0 ...\n",
            " $ FlagrantFouls      : int  0 0 0 0 0 0 0 0 0 0 ...\n",
            " $ GamesStarted       : int  29 0 80 57 17 5 74 0 28 56 ...\n"
          ],
          "name": "stdout"
        }
      ]
    },
    {
      "cell_type": "code",
      "metadata": {
        "colab": {
          "base_uri": "https://localhost:8080/",
          "height": 405
        },
        "id": "JYcsyscATDcj",
        "outputId": "62afe290-99c6-4a1c-a81a-27b7d88714bf"
      },
      "source": [
        "head(NBA1516)"
      ],
      "execution_count": 54,
      "outputs": [
        {
          "output_type": "display_data",
          "data": {
            "text/plain": [
              "  League Name          Team Position GamesPlayed TotalMinutesPlayed\n",
              "1 NBA    Quincy Acy    SAC  SF       59           877              \n",
              "2 NBA    Jordan Adams  MEM  SG        2            15              \n",
              "3 NBA    Steven Adams  OKL  C        80          2019              \n",
              "4 NBA    Arron Afflalo NYK  SG       71          2359              \n",
              "5 NBA    Alexis Ajinca NOR  C        59           863              \n",
              "6 NBA    Cole Aldrich  LAC  C        60           802              \n",
              "  FieldGoalsMade FieldGoalsAttempted ThreesMade ThreesAttempted ⋯ Steals\n",
              "1 119            214                 19          49             ⋯ 29    \n",
              "2   2              6                  0           1             ⋯  3    \n",
              "3 261            426                  0           0             ⋯ 42    \n",
              "4 354            799                 91         238             ⋯ 25    \n",
              "5 150            314                  0           1             ⋯ 19    \n",
              "6 134            225                  0           0             ⋯ 47    \n",
              "  Turnovers Blocks PersonalFouls Disqualifications TotalPoints Technicals\n",
              "1 27        24     103           0                 307         3         \n",
              "2  2         0       2           0                   7         0         \n",
              "3 84        89     223           2                 636         2         \n",
              "4 82        10     142           1                 909         1         \n",
              "5 54        36     134           0                 352         2         \n",
              "6 64        68     139           1                 328         0         \n",
              "  Ejections FlagrantFouls GamesStarted\n",
              "1 0         0             29          \n",
              "2 0         0              0          \n",
              "3 0         0             80          \n",
              "4 0         0             57          \n",
              "5 0         0             17          \n",
              "6 0         0              5          "
            ],
            "text/latex": "A data.frame: 6 × 25\n\\begin{tabular}{r|lllllllllllllllllllll}\n  & League & Name & Team & Position & GamesPlayed & TotalMinutesPlayed & FieldGoalsMade & FieldGoalsAttempted & ThreesMade & ThreesAttempted & ⋯ & Steals & Turnovers & Blocks & PersonalFouls & Disqualifications & TotalPoints & Technicals & Ejections & FlagrantFouls & GamesStarted\\\\\n  & <fct> & <chr> & <fct> & <fct> & <int> & <int> & <int> & <int> & <int> & <int> & ⋯ & <int> & <int> & <int> & <int> & <int> & <int> & <int> & <int> & <int> & <int>\\\\\n\\hline\n\t1 & NBA & Quincy Acy    & SAC & SF & 59 &  877 & 119 & 214 & 19 &  49 & ⋯ & 29 & 27 & 24 & 103 & 0 & 307 & 3 & 0 & 0 & 29\\\\\n\t2 & NBA & Jordan Adams  & MEM & SG &  2 &   15 &   2 &   6 &  0 &   1 & ⋯ &  3 &  2 &  0 &   2 & 0 &   7 & 0 & 0 & 0 &  0\\\\\n\t3 & NBA & Steven Adams  & OKL & C  & 80 & 2019 & 261 & 426 &  0 &   0 & ⋯ & 42 & 84 & 89 & 223 & 2 & 636 & 2 & 0 & 0 & 80\\\\\n\t4 & NBA & Arron Afflalo & NYK & SG & 71 & 2359 & 354 & 799 & 91 & 238 & ⋯ & 25 & 82 & 10 & 142 & 1 & 909 & 1 & 0 & 0 & 57\\\\\n\t5 & NBA & Alexis Ajinca & NOR & C  & 59 &  863 & 150 & 314 &  0 &   1 & ⋯ & 19 & 54 & 36 & 134 & 0 & 352 & 2 & 0 & 0 & 17\\\\\n\t6 & NBA & Cole Aldrich  & LAC & C  & 60 &  802 & 134 & 225 &  0 &   0 & ⋯ & 47 & 64 & 68 & 139 & 1 & 328 & 0 & 0 & 0 &  5\\\\\n\\end{tabular}\n",
            "text/markdown": "\nA data.frame: 6 × 25\n\n| <!--/--> | League &lt;fct&gt; | Name &lt;chr&gt; | Team &lt;fct&gt; | Position &lt;fct&gt; | GamesPlayed &lt;int&gt; | TotalMinutesPlayed &lt;int&gt; | FieldGoalsMade &lt;int&gt; | FieldGoalsAttempted &lt;int&gt; | ThreesMade &lt;int&gt; | ThreesAttempted &lt;int&gt; | ⋯ ⋯ | Steals &lt;int&gt; | Turnovers &lt;int&gt; | Blocks &lt;int&gt; | PersonalFouls &lt;int&gt; | Disqualifications &lt;int&gt; | TotalPoints &lt;int&gt; | Technicals &lt;int&gt; | Ejections &lt;int&gt; | FlagrantFouls &lt;int&gt; | GamesStarted &lt;int&gt; |\n|---|---|---|---|---|---|---|---|---|---|---|---|---|---|---|---|---|---|---|---|---|---|\n| 1 | NBA | Quincy Acy    | SAC | SF | 59 |  877 | 119 | 214 | 19 |  49 | ⋯ | 29 | 27 | 24 | 103 | 0 | 307 | 3 | 0 | 0 | 29 |\n| 2 | NBA | Jordan Adams  | MEM | SG |  2 |   15 |   2 |   6 |  0 |   1 | ⋯ |  3 |  2 |  0 |   2 | 0 |   7 | 0 | 0 | 0 |  0 |\n| 3 | NBA | Steven Adams  | OKL | C  | 80 | 2019 | 261 | 426 |  0 |   0 | ⋯ | 42 | 84 | 89 | 223 | 2 | 636 | 2 | 0 | 0 | 80 |\n| 4 | NBA | Arron Afflalo | NYK | SG | 71 | 2359 | 354 | 799 | 91 | 238 | ⋯ | 25 | 82 | 10 | 142 | 1 | 909 | 1 | 0 | 0 | 57 |\n| 5 | NBA | Alexis Ajinca | NOR | C  | 59 |  863 | 150 | 314 |  0 |   1 | ⋯ | 19 | 54 | 36 | 134 | 0 | 352 | 2 | 0 | 0 | 17 |\n| 6 | NBA | Cole Aldrich  | LAC | C  | 60 |  802 | 134 | 225 |  0 |   0 | ⋯ | 47 | 64 | 68 | 139 | 1 | 328 | 0 | 0 | 0 |  5 |\n\n",
            "text/html": [
              "<table class=\"dataframe\">\n",
              "<caption>A data.frame: 6 × 25</caption>\n",
              "<thead>\n",
              "\t<tr><th></th><th scope=col>League</th><th scope=col>Name</th><th scope=col>Team</th><th scope=col>Position</th><th scope=col>GamesPlayed</th><th scope=col>TotalMinutesPlayed</th><th scope=col>FieldGoalsMade</th><th scope=col>FieldGoalsAttempted</th><th scope=col>ThreesMade</th><th scope=col>ThreesAttempted</th><th scope=col>⋯</th><th scope=col>Steals</th><th scope=col>Turnovers</th><th scope=col>Blocks</th><th scope=col>PersonalFouls</th><th scope=col>Disqualifications</th><th scope=col>TotalPoints</th><th scope=col>Technicals</th><th scope=col>Ejections</th><th scope=col>FlagrantFouls</th><th scope=col>GamesStarted</th></tr>\n",
              "\t<tr><th></th><th scope=col>&lt;fct&gt;</th><th scope=col>&lt;chr&gt;</th><th scope=col>&lt;fct&gt;</th><th scope=col>&lt;fct&gt;</th><th scope=col>&lt;int&gt;</th><th scope=col>&lt;int&gt;</th><th scope=col>&lt;int&gt;</th><th scope=col>&lt;int&gt;</th><th scope=col>&lt;int&gt;</th><th scope=col>&lt;int&gt;</th><th scope=col>⋯</th><th scope=col>&lt;int&gt;</th><th scope=col>&lt;int&gt;</th><th scope=col>&lt;int&gt;</th><th scope=col>&lt;int&gt;</th><th scope=col>&lt;int&gt;</th><th scope=col>&lt;int&gt;</th><th scope=col>&lt;int&gt;</th><th scope=col>&lt;int&gt;</th><th scope=col>&lt;int&gt;</th><th scope=col>&lt;int&gt;</th></tr>\n",
              "</thead>\n",
              "<tbody>\n",
              "\t<tr><th scope=row>1</th><td>NBA</td><td>Quincy Acy   </td><td>SAC</td><td>SF</td><td>59</td><td> 877</td><td>119</td><td>214</td><td>19</td><td> 49</td><td>⋯</td><td>29</td><td>27</td><td>24</td><td>103</td><td>0</td><td>307</td><td>3</td><td>0</td><td>0</td><td>29</td></tr>\n",
              "\t<tr><th scope=row>2</th><td>NBA</td><td>Jordan Adams </td><td>MEM</td><td>SG</td><td> 2</td><td>  15</td><td>  2</td><td>  6</td><td> 0</td><td>  1</td><td>⋯</td><td> 3</td><td> 2</td><td> 0</td><td>  2</td><td>0</td><td>  7</td><td>0</td><td>0</td><td>0</td><td> 0</td></tr>\n",
              "\t<tr><th scope=row>3</th><td>NBA</td><td>Steven Adams </td><td>OKL</td><td>C </td><td>80</td><td>2019</td><td>261</td><td>426</td><td> 0</td><td>  0</td><td>⋯</td><td>42</td><td>84</td><td>89</td><td>223</td><td>2</td><td>636</td><td>2</td><td>0</td><td>0</td><td>80</td></tr>\n",
              "\t<tr><th scope=row>4</th><td>NBA</td><td>Arron Afflalo</td><td>NYK</td><td>SG</td><td>71</td><td>2359</td><td>354</td><td>799</td><td>91</td><td>238</td><td>⋯</td><td>25</td><td>82</td><td>10</td><td>142</td><td>1</td><td>909</td><td>1</td><td>0</td><td>0</td><td>57</td></tr>\n",
              "\t<tr><th scope=row>5</th><td>NBA</td><td>Alexis Ajinca</td><td>NOR</td><td>C </td><td>59</td><td> 863</td><td>150</td><td>314</td><td> 0</td><td>  1</td><td>⋯</td><td>19</td><td>54</td><td>36</td><td>134</td><td>0</td><td>352</td><td>2</td><td>0</td><td>0</td><td>17</td></tr>\n",
              "\t<tr><th scope=row>6</th><td>NBA</td><td>Cole Aldrich </td><td>LAC</td><td>C </td><td>60</td><td> 802</td><td>134</td><td>225</td><td> 0</td><td>  0</td><td>⋯</td><td>47</td><td>64</td><td>68</td><td>139</td><td>1</td><td>328</td><td>0</td><td>0</td><td>0</td><td> 5</td></tr>\n",
              "</tbody>\n",
              "</table>\n"
            ]
          },
          "metadata": {
            "tags": []
          }
        }
      ]
    },
    {
      "cell_type": "code",
      "metadata": {
        "colab": {
          "base_uri": "https://localhost:8080/",
          "height": 1000
        },
        "id": "OlgjauemUOvy",
        "outputId": "b33a2612-e910-40f5-b94e-f189fd25b33f"
      },
      "source": [
        "NBA1516Order<-NBA1516[order(NBA1516$GamesPlayed,decreasing=T),]\r\n",
        "NBA1516Order[1:20,]"
      ],
      "execution_count": 58,
      "outputs": [
        {
          "output_type": "display_data",
          "data": {
            "text/plain": [
              "    League Name             Team Position GamesPlayed TotalMinutesPlayed\n",
              "11  NBA    Al-farouq Aminu  POR  SF       82          2342              \n",
              "37  NBA    Will Barton      DEN  SG       82          2355              \n",
              "48  NBA    Bismack Biyombo  TOR  PF       82          1810              \n",
              "62  NBA    Corey Brewer     HOU  SG       82          1670              \n",
              "118 NBA    Gorgui Dieng     MIN  C        82          2222              \n",
              "148 NBA    Langsto Galloway NYK  PG       82          2032              \n",
              "178 NBA    James Harden     HOU  SG       82          3121              \n",
              "208 NBA    Al Horford       ATL  PF       82          2638              \n",
              "246 NBA    Enes Kanter      OKL  C        82          1721              \n",
              "259 NBA    Zach Lavine      MIN  PG       82          2295              \n",
              "272 NBA    Robin Lopez      NYK  C        82          2213              \n",
              "320 NBA    Shabazz Muhammad MIN  SF       82          1678              \n",
              "357 NBA    Mason Plumlee    POR  PF       82          2087              \n",
              "394 NBA    Ramon Sessions   WAS  PG       82          1667              \n",
              "422 NBA    Isaiah Thomas    BOS  PG       82          2647              \n",
              "427 NBA    Tristan Thompson CLE  C        82          2269              \n",
              "431 NBA    Karl-antho Towns MIN  C        82          2621              \n",
              "432 NBA    P.j. Tucker      PHO  SF       82          2540              \n",
              "24  NBA    Trevor Ariza     HOU  SF       81          2860              \n",
              "41  NBA    Aron Baynes      DET  PF       81          1241              \n",
              "    FieldGoalsMade FieldGoalsAttempted ThreesMade ThreesAttempted ⋯ Steals\n",
              "11  299             719                126        349             ⋯  72   \n",
              "37  426             984                112        324             ⋯  71   \n",
              "48  156             288                  0          1             ⋯  19   \n",
              "62  212             552                 61        225             ⋯  84   \n",
              "118 308             578                  6         20             ⋯  94   \n",
              "148 231             588                 77        224             ⋯  77   \n",
              "178 710            1617                236        656             ⋯ 138   \n",
              "208 529            1049                 88        257             ⋯  67   \n",
              "246 415             720                 10         21             ⋯  26   \n",
              "259 433             960                123        316             ⋯  69   \n",
              "272 357             662                  0          1             ⋯  16   \n",
              "320 317             681                 44        152             ⋯  24   \n",
              "357 267             517                  0          4             ⋯  68   \n",
              "394 280             592                 36        111             ⋯  47   \n",
              "422 591            1382                167        465             ⋯  91   \n",
              "427 247             420                  0          0             ⋯  38   \n",
              "431 625            1152                 30         88             ⋯  58   \n",
              "432 239             582                 68        206             ⋯ 106   \n",
              "24  357             858                185        497             ⋯ 161   \n",
              "41  194             384                  0          2             ⋯  21   \n",
              "    Turnovers Blocks PersonalFouls Disqualifications TotalPoints Technicals\n",
              "11  120        53    171           0                  839        3         \n",
              "37  139        39    147           0                 1180        2         \n",
              "48   71       133    225           2                  454        3         \n",
              "62   78        19    168           1                  590        0         \n",
              "118 140        96    219           0                  827        1         \n",
              "148  61        22    177           2                  625        0         \n",
              "178 374        51    229           1                 2376        2         \n",
              "208 107       122    163           0                 1249        1         \n",
              "246 115        33    166           1                 1040        2         \n",
              "259 155        17    193           1                 1150        0         \n",
              "272 133       129    182           2                  842        3         \n",
              "320  70         7     94           0                  863        0         \n",
              "357 154        82    253           4                  749        1         \n",
              "394 115         5    102           0                  810        0         \n",
              "422 220         9    167           1                 1823        9         \n",
              "427  61        51    202           0                  643        1         \n",
              "431 183       138    245           1                 1503        2         \n",
              "432 111        20    202           3                  652        4         \n",
              "24  113        26    177           0                 1025        2         \n",
              "41   67        52    151           0                  514        0         \n",
              "    Ejections FlagrantFouls GamesStarted\n",
              "11  0         0             82          \n",
              "37  0         0              1          \n",
              "48  0         0             22          \n",
              "62  0         0             12          \n",
              "118 0         0             39          \n",
              "148 0         0              7          \n",
              "178 0         0             82          \n",
              "208 0         0             82          \n",
              "246 0         0              1          \n",
              "259 0         0             33          \n",
              "272 0         0             82          \n",
              "320 0         0              0          \n",
              "357 0         0             82          \n",
              "394 0         0              5          \n",
              "422 0         0             79          \n",
              "427 0         0             34          \n",
              "431 0         0             82          \n",
              "432 0         0             80          \n",
              "24  0         0             81          \n",
              "41  0         0              1          "
            ],
            "text/latex": "A data.frame: 20 × 25\n\\begin{tabular}{r|lllllllllllllllllllll}\n  & League & Name & Team & Position & GamesPlayed & TotalMinutesPlayed & FieldGoalsMade & FieldGoalsAttempted & ThreesMade & ThreesAttempted & ⋯ & Steals & Turnovers & Blocks & PersonalFouls & Disqualifications & TotalPoints & Technicals & Ejections & FlagrantFouls & GamesStarted\\\\\n  & <fct> & <chr> & <fct> & <fct> & <int> & <int> & <int> & <int> & <int> & <int> & ⋯ & <int> & <int> & <int> & <int> & <int> & <int> & <int> & <int> & <int> & <int>\\\\\n\\hline\n\t11 & NBA & Al-farouq Aminu  & POR & SF & 82 & 2342 & 299 &  719 & 126 & 349 & ⋯ &  72 & 120 &  53 & 171 & 0 &  839 & 3 & 0 & 0 & 82\\\\\n\t37 & NBA & Will Barton      & DEN & SG & 82 & 2355 & 426 &  984 & 112 & 324 & ⋯ &  71 & 139 &  39 & 147 & 0 & 1180 & 2 & 0 & 0 &  1\\\\\n\t48 & NBA & Bismack Biyombo  & TOR & PF & 82 & 1810 & 156 &  288 &   0 &   1 & ⋯ &  19 &  71 & 133 & 225 & 2 &  454 & 3 & 0 & 0 & 22\\\\\n\t62 & NBA & Corey Brewer     & HOU & SG & 82 & 1670 & 212 &  552 &  61 & 225 & ⋯ &  84 &  78 &  19 & 168 & 1 &  590 & 0 & 0 & 0 & 12\\\\\n\t118 & NBA & Gorgui Dieng     & MIN & C  & 82 & 2222 & 308 &  578 &   6 &  20 & ⋯ &  94 & 140 &  96 & 219 & 0 &  827 & 1 & 0 & 0 & 39\\\\\n\t148 & NBA & Langsto Galloway & NYK & PG & 82 & 2032 & 231 &  588 &  77 & 224 & ⋯ &  77 &  61 &  22 & 177 & 2 &  625 & 0 & 0 & 0 &  7\\\\\n\t178 & NBA & James Harden     & HOU & SG & 82 & 3121 & 710 & 1617 & 236 & 656 & ⋯ & 138 & 374 &  51 & 229 & 1 & 2376 & 2 & 0 & 0 & 82\\\\\n\t208 & NBA & Al Horford       & ATL & PF & 82 & 2638 & 529 & 1049 &  88 & 257 & ⋯ &  67 & 107 & 122 & 163 & 0 & 1249 & 1 & 0 & 0 & 82\\\\\n\t246 & NBA & Enes Kanter      & OKL & C  & 82 & 1721 & 415 &  720 &  10 &  21 & ⋯ &  26 & 115 &  33 & 166 & 1 & 1040 & 2 & 0 & 0 &  1\\\\\n\t259 & NBA & Zach Lavine      & MIN & PG & 82 & 2295 & 433 &  960 & 123 & 316 & ⋯ &  69 & 155 &  17 & 193 & 1 & 1150 & 0 & 0 & 0 & 33\\\\\n\t272 & NBA & Robin Lopez      & NYK & C  & 82 & 2213 & 357 &  662 &   0 &   1 & ⋯ &  16 & 133 & 129 & 182 & 2 &  842 & 3 & 0 & 0 & 82\\\\\n\t320 & NBA & Shabazz Muhammad & MIN & SF & 82 & 1678 & 317 &  681 &  44 & 152 & ⋯ &  24 &  70 &   7 &  94 & 0 &  863 & 0 & 0 & 0 &  0\\\\\n\t357 & NBA & Mason Plumlee    & POR & PF & 82 & 2087 & 267 &  517 &   0 &   4 & ⋯ &  68 & 154 &  82 & 253 & 4 &  749 & 1 & 0 & 0 & 82\\\\\n\t394 & NBA & Ramon Sessions   & WAS & PG & 82 & 1667 & 280 &  592 &  36 & 111 & ⋯ &  47 & 115 &   5 & 102 & 0 &  810 & 0 & 0 & 0 &  5\\\\\n\t422 & NBA & Isaiah Thomas    & BOS & PG & 82 & 2647 & 591 & 1382 & 167 & 465 & ⋯ &  91 & 220 &   9 & 167 & 1 & 1823 & 9 & 0 & 0 & 79\\\\\n\t427 & NBA & Tristan Thompson & CLE & C  & 82 & 2269 & 247 &  420 &   0 &   0 & ⋯ &  38 &  61 &  51 & 202 & 0 &  643 & 1 & 0 & 0 & 34\\\\\n\t431 & NBA & Karl-antho Towns & MIN & C  & 82 & 2621 & 625 & 1152 &  30 &  88 & ⋯ &  58 & 183 & 138 & 245 & 1 & 1503 & 2 & 0 & 0 & 82\\\\\n\t432 & NBA & P.j. Tucker      & PHO & SF & 82 & 2540 & 239 &  582 &  68 & 206 & ⋯ & 106 & 111 &  20 & 202 & 3 &  652 & 4 & 0 & 0 & 80\\\\\n\t24 & NBA & Trevor Ariza     & HOU & SF & 81 & 2860 & 357 &  858 & 185 & 497 & ⋯ & 161 & 113 &  26 & 177 & 0 & 1025 & 2 & 0 & 0 & 81\\\\\n\t41 & NBA & Aron Baynes      & DET & PF & 81 & 1241 & 194 &  384 &   0 &   2 & ⋯ &  21 &  67 &  52 & 151 & 0 &  514 & 0 & 0 & 0 &  1\\\\\n\\end{tabular}\n",
            "text/markdown": "\nA data.frame: 20 × 25\n\n| <!--/--> | League &lt;fct&gt; | Name &lt;chr&gt; | Team &lt;fct&gt; | Position &lt;fct&gt; | GamesPlayed &lt;int&gt; | TotalMinutesPlayed &lt;int&gt; | FieldGoalsMade &lt;int&gt; | FieldGoalsAttempted &lt;int&gt; | ThreesMade &lt;int&gt; | ThreesAttempted &lt;int&gt; | ⋯ ⋯ | Steals &lt;int&gt; | Turnovers &lt;int&gt; | Blocks &lt;int&gt; | PersonalFouls &lt;int&gt; | Disqualifications &lt;int&gt; | TotalPoints &lt;int&gt; | Technicals &lt;int&gt; | Ejections &lt;int&gt; | FlagrantFouls &lt;int&gt; | GamesStarted &lt;int&gt; |\n|---|---|---|---|---|---|---|---|---|---|---|---|---|---|---|---|---|---|---|---|---|---|\n| 11 | NBA | Al-farouq Aminu  | POR | SF | 82 | 2342 | 299 |  719 | 126 | 349 | ⋯ |  72 | 120 |  53 | 171 | 0 |  839 | 3 | 0 | 0 | 82 |\n| 37 | NBA | Will Barton      | DEN | SG | 82 | 2355 | 426 |  984 | 112 | 324 | ⋯ |  71 | 139 |  39 | 147 | 0 | 1180 | 2 | 0 | 0 |  1 |\n| 48 | NBA | Bismack Biyombo  | TOR | PF | 82 | 1810 | 156 |  288 |   0 |   1 | ⋯ |  19 |  71 | 133 | 225 | 2 |  454 | 3 | 0 | 0 | 22 |\n| 62 | NBA | Corey Brewer     | HOU | SG | 82 | 1670 | 212 |  552 |  61 | 225 | ⋯ |  84 |  78 |  19 | 168 | 1 |  590 | 0 | 0 | 0 | 12 |\n| 118 | NBA | Gorgui Dieng     | MIN | C  | 82 | 2222 | 308 |  578 |   6 |  20 | ⋯ |  94 | 140 |  96 | 219 | 0 |  827 | 1 | 0 | 0 | 39 |\n| 148 | NBA | Langsto Galloway | NYK | PG | 82 | 2032 | 231 |  588 |  77 | 224 | ⋯ |  77 |  61 |  22 | 177 | 2 |  625 | 0 | 0 | 0 |  7 |\n| 178 | NBA | James Harden     | HOU | SG | 82 | 3121 | 710 | 1617 | 236 | 656 | ⋯ | 138 | 374 |  51 | 229 | 1 | 2376 | 2 | 0 | 0 | 82 |\n| 208 | NBA | Al Horford       | ATL | PF | 82 | 2638 | 529 | 1049 |  88 | 257 | ⋯ |  67 | 107 | 122 | 163 | 0 | 1249 | 1 | 0 | 0 | 82 |\n| 246 | NBA | Enes Kanter      | OKL | C  | 82 | 1721 | 415 |  720 |  10 |  21 | ⋯ |  26 | 115 |  33 | 166 | 1 | 1040 | 2 | 0 | 0 |  1 |\n| 259 | NBA | Zach Lavine      | MIN | PG | 82 | 2295 | 433 |  960 | 123 | 316 | ⋯ |  69 | 155 |  17 | 193 | 1 | 1150 | 0 | 0 | 0 | 33 |\n| 272 | NBA | Robin Lopez      | NYK | C  | 82 | 2213 | 357 |  662 |   0 |   1 | ⋯ |  16 | 133 | 129 | 182 | 2 |  842 | 3 | 0 | 0 | 82 |\n| 320 | NBA | Shabazz Muhammad | MIN | SF | 82 | 1678 | 317 |  681 |  44 | 152 | ⋯ |  24 |  70 |   7 |  94 | 0 |  863 | 0 | 0 | 0 |  0 |\n| 357 | NBA | Mason Plumlee    | POR | PF | 82 | 2087 | 267 |  517 |   0 |   4 | ⋯ |  68 | 154 |  82 | 253 | 4 |  749 | 1 | 0 | 0 | 82 |\n| 394 | NBA | Ramon Sessions   | WAS | PG | 82 | 1667 | 280 |  592 |  36 | 111 | ⋯ |  47 | 115 |   5 | 102 | 0 |  810 | 0 | 0 | 0 |  5 |\n| 422 | NBA | Isaiah Thomas    | BOS | PG | 82 | 2647 | 591 | 1382 | 167 | 465 | ⋯ |  91 | 220 |   9 | 167 | 1 | 1823 | 9 | 0 | 0 | 79 |\n| 427 | NBA | Tristan Thompson | CLE | C  | 82 | 2269 | 247 |  420 |   0 |   0 | ⋯ |  38 |  61 |  51 | 202 | 0 |  643 | 1 | 0 | 0 | 34 |\n| 431 | NBA | Karl-antho Towns | MIN | C  | 82 | 2621 | 625 | 1152 |  30 |  88 | ⋯ |  58 | 183 | 138 | 245 | 1 | 1503 | 2 | 0 | 0 | 82 |\n| 432 | NBA | P.j. Tucker      | PHO | SF | 82 | 2540 | 239 |  582 |  68 | 206 | ⋯ | 106 | 111 |  20 | 202 | 3 |  652 | 4 | 0 | 0 | 80 |\n| 24 | NBA | Trevor Ariza     | HOU | SF | 81 | 2860 | 357 |  858 | 185 | 497 | ⋯ | 161 | 113 |  26 | 177 | 0 | 1025 | 2 | 0 | 0 | 81 |\n| 41 | NBA | Aron Baynes      | DET | PF | 81 | 1241 | 194 |  384 |   0 |   2 | ⋯ |  21 |  67 |  52 | 151 | 0 |  514 | 0 | 0 | 0 |  1 |\n\n",
            "text/html": [
              "<table class=\"dataframe\">\n",
              "<caption>A data.frame: 20 × 25</caption>\n",
              "<thead>\n",
              "\t<tr><th></th><th scope=col>League</th><th scope=col>Name</th><th scope=col>Team</th><th scope=col>Position</th><th scope=col>GamesPlayed</th><th scope=col>TotalMinutesPlayed</th><th scope=col>FieldGoalsMade</th><th scope=col>FieldGoalsAttempted</th><th scope=col>ThreesMade</th><th scope=col>ThreesAttempted</th><th scope=col>⋯</th><th scope=col>Steals</th><th scope=col>Turnovers</th><th scope=col>Blocks</th><th scope=col>PersonalFouls</th><th scope=col>Disqualifications</th><th scope=col>TotalPoints</th><th scope=col>Technicals</th><th scope=col>Ejections</th><th scope=col>FlagrantFouls</th><th scope=col>GamesStarted</th></tr>\n",
              "\t<tr><th></th><th scope=col>&lt;fct&gt;</th><th scope=col>&lt;chr&gt;</th><th scope=col>&lt;fct&gt;</th><th scope=col>&lt;fct&gt;</th><th scope=col>&lt;int&gt;</th><th scope=col>&lt;int&gt;</th><th scope=col>&lt;int&gt;</th><th scope=col>&lt;int&gt;</th><th scope=col>&lt;int&gt;</th><th scope=col>&lt;int&gt;</th><th scope=col>⋯</th><th scope=col>&lt;int&gt;</th><th scope=col>&lt;int&gt;</th><th scope=col>&lt;int&gt;</th><th scope=col>&lt;int&gt;</th><th scope=col>&lt;int&gt;</th><th scope=col>&lt;int&gt;</th><th scope=col>&lt;int&gt;</th><th scope=col>&lt;int&gt;</th><th scope=col>&lt;int&gt;</th><th scope=col>&lt;int&gt;</th></tr>\n",
              "</thead>\n",
              "<tbody>\n",
              "\t<tr><th scope=row>11</th><td>NBA</td><td>Al-farouq Aminu </td><td>POR</td><td>SF</td><td>82</td><td>2342</td><td>299</td><td> 719</td><td>126</td><td>349</td><td>⋯</td><td> 72</td><td>120</td><td> 53</td><td>171</td><td>0</td><td> 839</td><td>3</td><td>0</td><td>0</td><td>82</td></tr>\n",
              "\t<tr><th scope=row>37</th><td>NBA</td><td>Will Barton     </td><td>DEN</td><td>SG</td><td>82</td><td>2355</td><td>426</td><td> 984</td><td>112</td><td>324</td><td>⋯</td><td> 71</td><td>139</td><td> 39</td><td>147</td><td>0</td><td>1180</td><td>2</td><td>0</td><td>0</td><td> 1</td></tr>\n",
              "\t<tr><th scope=row>48</th><td>NBA</td><td>Bismack Biyombo </td><td>TOR</td><td>PF</td><td>82</td><td>1810</td><td>156</td><td> 288</td><td>  0</td><td>  1</td><td>⋯</td><td> 19</td><td> 71</td><td>133</td><td>225</td><td>2</td><td> 454</td><td>3</td><td>0</td><td>0</td><td>22</td></tr>\n",
              "\t<tr><th scope=row>62</th><td>NBA</td><td>Corey Brewer    </td><td>HOU</td><td>SG</td><td>82</td><td>1670</td><td>212</td><td> 552</td><td> 61</td><td>225</td><td>⋯</td><td> 84</td><td> 78</td><td> 19</td><td>168</td><td>1</td><td> 590</td><td>0</td><td>0</td><td>0</td><td>12</td></tr>\n",
              "\t<tr><th scope=row>118</th><td>NBA</td><td>Gorgui Dieng    </td><td>MIN</td><td>C </td><td>82</td><td>2222</td><td>308</td><td> 578</td><td>  6</td><td> 20</td><td>⋯</td><td> 94</td><td>140</td><td> 96</td><td>219</td><td>0</td><td> 827</td><td>1</td><td>0</td><td>0</td><td>39</td></tr>\n",
              "\t<tr><th scope=row>148</th><td>NBA</td><td>Langsto Galloway</td><td>NYK</td><td>PG</td><td>82</td><td>2032</td><td>231</td><td> 588</td><td> 77</td><td>224</td><td>⋯</td><td> 77</td><td> 61</td><td> 22</td><td>177</td><td>2</td><td> 625</td><td>0</td><td>0</td><td>0</td><td> 7</td></tr>\n",
              "\t<tr><th scope=row>178</th><td>NBA</td><td>James Harden    </td><td>HOU</td><td>SG</td><td>82</td><td>3121</td><td>710</td><td>1617</td><td>236</td><td>656</td><td>⋯</td><td>138</td><td>374</td><td> 51</td><td>229</td><td>1</td><td>2376</td><td>2</td><td>0</td><td>0</td><td>82</td></tr>\n",
              "\t<tr><th scope=row>208</th><td>NBA</td><td>Al Horford      </td><td>ATL</td><td>PF</td><td>82</td><td>2638</td><td>529</td><td>1049</td><td> 88</td><td>257</td><td>⋯</td><td> 67</td><td>107</td><td>122</td><td>163</td><td>0</td><td>1249</td><td>1</td><td>0</td><td>0</td><td>82</td></tr>\n",
              "\t<tr><th scope=row>246</th><td>NBA</td><td>Enes Kanter     </td><td>OKL</td><td>C </td><td>82</td><td>1721</td><td>415</td><td> 720</td><td> 10</td><td> 21</td><td>⋯</td><td> 26</td><td>115</td><td> 33</td><td>166</td><td>1</td><td>1040</td><td>2</td><td>0</td><td>0</td><td> 1</td></tr>\n",
              "\t<tr><th scope=row>259</th><td>NBA</td><td>Zach Lavine     </td><td>MIN</td><td>PG</td><td>82</td><td>2295</td><td>433</td><td> 960</td><td>123</td><td>316</td><td>⋯</td><td> 69</td><td>155</td><td> 17</td><td>193</td><td>1</td><td>1150</td><td>0</td><td>0</td><td>0</td><td>33</td></tr>\n",
              "\t<tr><th scope=row>272</th><td>NBA</td><td>Robin Lopez     </td><td>NYK</td><td>C </td><td>82</td><td>2213</td><td>357</td><td> 662</td><td>  0</td><td>  1</td><td>⋯</td><td> 16</td><td>133</td><td>129</td><td>182</td><td>2</td><td> 842</td><td>3</td><td>0</td><td>0</td><td>82</td></tr>\n",
              "\t<tr><th scope=row>320</th><td>NBA</td><td>Shabazz Muhammad</td><td>MIN</td><td>SF</td><td>82</td><td>1678</td><td>317</td><td> 681</td><td> 44</td><td>152</td><td>⋯</td><td> 24</td><td> 70</td><td>  7</td><td> 94</td><td>0</td><td> 863</td><td>0</td><td>0</td><td>0</td><td> 0</td></tr>\n",
              "\t<tr><th scope=row>357</th><td>NBA</td><td>Mason Plumlee   </td><td>POR</td><td>PF</td><td>82</td><td>2087</td><td>267</td><td> 517</td><td>  0</td><td>  4</td><td>⋯</td><td> 68</td><td>154</td><td> 82</td><td>253</td><td>4</td><td> 749</td><td>1</td><td>0</td><td>0</td><td>82</td></tr>\n",
              "\t<tr><th scope=row>394</th><td>NBA</td><td>Ramon Sessions  </td><td>WAS</td><td>PG</td><td>82</td><td>1667</td><td>280</td><td> 592</td><td> 36</td><td>111</td><td>⋯</td><td> 47</td><td>115</td><td>  5</td><td>102</td><td>0</td><td> 810</td><td>0</td><td>0</td><td>0</td><td> 5</td></tr>\n",
              "\t<tr><th scope=row>422</th><td>NBA</td><td>Isaiah Thomas   </td><td>BOS</td><td>PG</td><td>82</td><td>2647</td><td>591</td><td>1382</td><td>167</td><td>465</td><td>⋯</td><td> 91</td><td>220</td><td>  9</td><td>167</td><td>1</td><td>1823</td><td>9</td><td>0</td><td>0</td><td>79</td></tr>\n",
              "\t<tr><th scope=row>427</th><td>NBA</td><td>Tristan Thompson</td><td>CLE</td><td>C </td><td>82</td><td>2269</td><td>247</td><td> 420</td><td>  0</td><td>  0</td><td>⋯</td><td> 38</td><td> 61</td><td> 51</td><td>202</td><td>0</td><td> 643</td><td>1</td><td>0</td><td>0</td><td>34</td></tr>\n",
              "\t<tr><th scope=row>431</th><td>NBA</td><td>Karl-antho Towns</td><td>MIN</td><td>C </td><td>82</td><td>2621</td><td>625</td><td>1152</td><td> 30</td><td> 88</td><td>⋯</td><td> 58</td><td>183</td><td>138</td><td>245</td><td>1</td><td>1503</td><td>2</td><td>0</td><td>0</td><td>82</td></tr>\n",
              "\t<tr><th scope=row>432</th><td>NBA</td><td>P.j. Tucker     </td><td>PHO</td><td>SF</td><td>82</td><td>2540</td><td>239</td><td> 582</td><td> 68</td><td>206</td><td>⋯</td><td>106</td><td>111</td><td> 20</td><td>202</td><td>3</td><td> 652</td><td>4</td><td>0</td><td>0</td><td>80</td></tr>\n",
              "\t<tr><th scope=row>24</th><td>NBA</td><td>Trevor Ariza    </td><td>HOU</td><td>SF</td><td>81</td><td>2860</td><td>357</td><td> 858</td><td>185</td><td>497</td><td>⋯</td><td>161</td><td>113</td><td> 26</td><td>177</td><td>0</td><td>1025</td><td>2</td><td>0</td><td>0</td><td>81</td></tr>\n",
              "\t<tr><th scope=row>41</th><td>NBA</td><td>Aron Baynes     </td><td>DET</td><td>PF</td><td>81</td><td>1241</td><td>194</td><td> 384</td><td>  0</td><td>  2</td><td>⋯</td><td> 21</td><td> 67</td><td> 52</td><td>151</td><td>0</td><td> 514</td><td>0</td><td>0</td><td>0</td><td> 1</td></tr>\n",
              "</tbody>\n",
              "</table>\n"
            ]
          },
          "metadata": {
            "tags": []
          }
        }
      ]
    }
  ]
}