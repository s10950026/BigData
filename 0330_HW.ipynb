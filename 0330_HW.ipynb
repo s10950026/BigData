{
  "nbformat": 4,
  "nbformat_minor": 0,
  "metadata": {
    "colab": {
      "name": "0330_HW.ipynb",
      "provenance": [],
      "collapsed_sections": [],
      "include_colab_link": true
    },
    "kernelspec": {
      "name": "ir",
      "display_name": "R"
    }
  },
  "cells": [
    {
      "cell_type": "markdown",
      "metadata": {
        "id": "view-in-github",
        "colab_type": "text"
      },
      "source": [
        "<a href=\"https://colab.research.google.com/github/s10950026/bigdata/blob/main/0330_HW.ipynb\" target=\"_parent\"><img src=\"https://colab.research.google.com/assets/colab-badge.svg\" alt=\"Open In Colab\"/></a>"
      ]
    },
    {
      "cell_type": "code",
      "metadata": {
        "colab": {
          "base_uri": "https://localhost:8080/"
        },
        "id": "zdUxY_BFLvYZ",
        "outputId": "205866d2-0a63-458e-ebb3-d2fec531b69c"
      },
      "source": [
        "install.packages(\"rJava\")\n",
        "install.packages(\"jiebaR\")\n",
        "install.packages(\"tmcn\")\n",
        "install.packages(\"dplyr\")\n",
        "install.packages(\"lubridate\")\n",
        "install.packages(\"stringr\")\n",
        "install.packages(\"wordcloud\")\n",
        "install.packages(\"Rwordseg\",repos=\"http://R-Forge.R-project.org\")"
      ],
      "execution_count": 1,
      "outputs": [
        {
          "output_type": "stream",
          "text": [
            "Installing package into ‘/usr/local/lib/R/site-library’\n",
            "(as ‘lib’ is unspecified)\n",
            "\n",
            "Installing package into ‘/usr/local/lib/R/site-library’\n",
            "(as ‘lib’ is unspecified)\n",
            "\n",
            "also installing the dependency ‘jiebaRD’\n",
            "\n",
            "\n",
            "Installing package into ‘/usr/local/lib/R/site-library’\n",
            "(as ‘lib’ is unspecified)\n",
            "\n",
            "Installing package into ‘/usr/local/lib/R/site-library’\n",
            "(as ‘lib’ is unspecified)\n",
            "\n",
            "Installing package into ‘/usr/local/lib/R/site-library’\n",
            "(as ‘lib’ is unspecified)\n",
            "\n",
            "Installing package into ‘/usr/local/lib/R/site-library’\n",
            "(as ‘lib’ is unspecified)\n",
            "\n",
            "Installing package into ‘/usr/local/lib/R/site-library’\n",
            "(as ‘lib’ is unspecified)\n",
            "\n",
            "Installing package into ‘/usr/local/lib/R/site-library’\n",
            "(as ‘lib’ is unspecified)\n",
            "\n",
            "Warning message:\n",
            "“dependency ‘HMM’ is not available”\n",
            "Warning message in install.packages(\"Rwordseg\", repos = \"http://R-Forge.R-project.org\"):\n",
            "“installation of package ‘Rwordseg’ had non-zero exit status”\n"
          ],
          "name": "stderr"
        }
      ]
    },
    {
      "cell_type": "code",
      "metadata": {
        "colab": {
          "base_uri": "https://localhost:8080/"
        },
        "id": "PELrnOyfNjm7",
        "outputId": "b2a12701-e7a4-4242-9730-9ec8f062ebfe"
      },
      "source": [
        "library(dplyr)\n",
        "library(lubridate)\n",
        "library(stringr)\n",
        "library(jiebaR)\n",
        "library(wordcloud)"
      ],
      "execution_count": 2,
      "outputs": [
        {
          "output_type": "stream",
          "text": [
            "\n",
            "Attaching package: ‘dplyr’\n",
            "\n",
            "\n",
            "The following objects are masked from ‘package:stats’:\n",
            "\n",
            "    filter, lag\n",
            "\n",
            "\n",
            "The following objects are masked from ‘package:base’:\n",
            "\n",
            "    intersect, setdiff, setequal, union\n",
            "\n",
            "\n",
            "Warning message in system(\"timedatectl\", intern = TRUE):\n",
            "“running command 'timedatectl' had status 1”\n",
            "\n",
            "Attaching package: ‘lubridate’\n",
            "\n",
            "\n",
            "The following objects are masked from ‘package:base’:\n",
            "\n",
            "    date, intersect, setdiff, union\n",
            "\n",
            "\n",
            "Loading required package: jiebaRD\n",
            "\n",
            "Loading required package: RColorBrewer\n",
            "\n"
          ],
          "name": "stderr"
        }
      ]
    },
    {
      "cell_type": "code",
      "metadata": {
        "id": "dRj-fbcDN6Ix"
      },
      "source": [
        "content <- \"中興大學今舉辦「重啟溝通丶共尋雙贏方案」邀請專家學者與談。農委會主委陳吉仲説，如果藻礁公投過了，政府能源轉型就不能這麼順利了，未來建天然氣接收站也不能順利了！\n",
        "陳吉仲說到一半，突然指著對面座位席，一時說不出話來，幾度哽咽，在場多不知發生什麼事，工作人員一度以為麥克風有問題，上前想幫忙調整，最後他表示自己「失態了」。\n",
        "陳吉仲說，中興大學有多位老師罹患肺腺癌，現場就有一位老師就是患者。他說，中南部的民眾有多少人希望政府能夠減煤降空汙。陳吉仲說，不是說要減煤降空汙就要影響藻礁，但也不能因保護大家的影響減煤步伐，要找到多贏。\""
      ],
      "execution_count": 9,
      "outputs": []
    },
    {
      "cell_type": "code",
      "metadata": {
        "colab": {
          "base_uri": "https://localhost:8080/",
          "height": 136
        },
        "id": "wxZuntI0OFXh",
        "outputId": "02cc5d4e-714e-4dce-f7c3-e5c44c0142b5"
      },
      "source": [
        "cutter <- worker(bylines=F)\n",
        "cutter[content]"
      ],
      "execution_count": 10,
      "outputs": [
        {
          "output_type": "display_data",
          "data": {
            "text/plain": [
              "  [1] \"中興大學\" \"今\"       \"舉辦\"     \"重\"       \"啟\"       \"溝通\"    \n",
              "  [7] \"丶\"       \"共尋\"     \"雙贏\"     \"方案\"     \"邀請\"     \"專家學者\"\n",
              " [13] \"與\"       \"談\"       \"農委會\"   \"主委\"     \"陳\"       \"吉仲\"    \n",
              " [19] \"説\"       \"如果\"     \"藻礁\"     \"公投\"     \"過了\"     \"政府\"    \n",
              " [25] \"能源\"     \"轉型\"     \"就\"       \"不能\"     \"這麼\"     \"順利\"    \n",
              " [31] \"了\"       \"未來\"     \"建\"       \"天然氣\"   \"接收站\"   \"也\"      \n",
              " [37] \"不能\"     \"順利\"     \"了\"       \"陳\"       \"吉仲說\"   \"到\"      \n",
              " [43] \"一半\"     \"突然\"     \"指著\"     \"對面\"     \"座位\"     \"席\"      \n",
              " [49] \"一時\"     \"說不出\"   \"話\"       \"來\"       \"幾度\"     \"哽咽\"    \n",
              " [55] \"在場\"     \"多\"       \"不知\"     \"發生\"     \"什麼\"     \"事\"      \n",
              " [61] \"工作人員\" \"一度\"     \"以為\"     \"麥克風\"   \"有\"       \"問題\"    \n",
              " [67] \"上前\"     \"想\"       \"幫忙\"     \"調整\"     \"最後\"     \"他\"      \n",
              " [73] \"表示\"     \"自己\"     \"失態\"     \"了\"       \"陳\"       \"吉仲說\"  \n",
              " [79] \"中興大學\" \"有\"       \"多位\"     \"老師\"     \"罹患\"     \"肺\"      \n",
              " [85] \"腺癌\"     \"現場\"     \"就\"       \"有\"       \"一位\"     \"老師\"    \n",
              " [91] \"就是\"     \"患者\"     \"他\"       \"說\"       \"中南部\"   \"的\"      \n",
              " [97] \"民眾\"     \"有\"       \"多少\"     \"人\"       \"希望\"     \"政府\"    \n",
              "[103] \"能夠\"     \"減煤\"     \"降空\"     \"汙\"       \"陳\"       \"吉仲說\"  \n",
              "[109] \"不是\"     \"說要\"     \"減煤\"     \"降空\"     \"汙\"       \"就要\"    \n",
              "[115] \"影響\"     \"藻礁\"     \"但\"       \"也\"       \"不能\"     \"因\"      \n",
              "[121] \"保護\"     \"大家\"     \"的\"       \"影響\"     \"減煤\"     \"步伐\"    \n",
              "[127] \"要\"       \"找到\"     \"多贏\"    "
            ],
            "text/latex": "\\begin{enumerate*}\n\\item '中興大學'\n\\item '今'\n\\item '舉辦'\n\\item '重'\n\\item '啟'\n\\item '溝通'\n\\item '丶'\n\\item '共尋'\n\\item '雙贏'\n\\item '方案'\n\\item '邀請'\n\\item '專家學者'\n\\item '與'\n\\item '談'\n\\item '農委會'\n\\item '主委'\n\\item '陳'\n\\item '吉仲'\n\\item '説'\n\\item '如果'\n\\item '藻礁'\n\\item '公投'\n\\item '過了'\n\\item '政府'\n\\item '能源'\n\\item '轉型'\n\\item '就'\n\\item '不能'\n\\item '這麼'\n\\item '順利'\n\\item '了'\n\\item '未來'\n\\item '建'\n\\item '天然氣'\n\\item '接收站'\n\\item '也'\n\\item '不能'\n\\item '順利'\n\\item '了'\n\\item '陳'\n\\item '吉仲說'\n\\item '到'\n\\item '一半'\n\\item '突然'\n\\item '指著'\n\\item '對面'\n\\item '座位'\n\\item '席'\n\\item '一時'\n\\item '說不出'\n\\item '話'\n\\item '來'\n\\item '幾度'\n\\item '哽咽'\n\\item '在場'\n\\item '多'\n\\item '不知'\n\\item '發生'\n\\item '什麼'\n\\item '事'\n\\item '工作人員'\n\\item '一度'\n\\item '以為'\n\\item '麥克風'\n\\item '有'\n\\item '問題'\n\\item '上前'\n\\item '想'\n\\item '幫忙'\n\\item '調整'\n\\item '最後'\n\\item '他'\n\\item '表示'\n\\item '自己'\n\\item '失態'\n\\item '了'\n\\item '陳'\n\\item '吉仲說'\n\\item '中興大學'\n\\item '有'\n\\item '多位'\n\\item '老師'\n\\item '罹患'\n\\item '肺'\n\\item '腺癌'\n\\item '現場'\n\\item '就'\n\\item '有'\n\\item '一位'\n\\item '老師'\n\\item '就是'\n\\item '患者'\n\\item '他'\n\\item '說'\n\\item '中南部'\n\\item '的'\n\\item '民眾'\n\\item '有'\n\\item '多少'\n\\item '人'\n\\item '希望'\n\\item '政府'\n\\item '能夠'\n\\item '減煤'\n\\item '降空'\n\\item '汙'\n\\item '陳'\n\\item '吉仲說'\n\\item '不是'\n\\item '說要'\n\\item '減煤'\n\\item '降空'\n\\item '汙'\n\\item '就要'\n\\item '影響'\n\\item '藻礁'\n\\item '但'\n\\item '也'\n\\item '不能'\n\\item '因'\n\\item '保護'\n\\item '大家'\n\\item '的'\n\\item '影響'\n\\item '減煤'\n\\item '步伐'\n\\item '要'\n\\item '找到'\n\\item '多贏'\n\\end{enumerate*}\n",
            "text/markdown": "1. '中興大學'\n2. '今'\n3. '舉辦'\n4. '重'\n5. '啟'\n6. '溝通'\n7. '丶'\n8. '共尋'\n9. '雙贏'\n10. '方案'\n11. '邀請'\n12. '專家學者'\n13. '與'\n14. '談'\n15. '農委會'\n16. '主委'\n17. '陳'\n18. '吉仲'\n19. '説'\n20. '如果'\n21. '藻礁'\n22. '公投'\n23. '過了'\n24. '政府'\n25. '能源'\n26. '轉型'\n27. '就'\n28. '不能'\n29. '這麼'\n30. '順利'\n31. '了'\n32. '未來'\n33. '建'\n34. '天然氣'\n35. '接收站'\n36. '也'\n37. '不能'\n38. '順利'\n39. '了'\n40. '陳'\n41. '吉仲說'\n42. '到'\n43. '一半'\n44. '突然'\n45. '指著'\n46. '對面'\n47. '座位'\n48. '席'\n49. '一時'\n50. '說不出'\n51. '話'\n52. '來'\n53. '幾度'\n54. '哽咽'\n55. '在場'\n56. '多'\n57. '不知'\n58. '發生'\n59. '什麼'\n60. '事'\n61. '工作人員'\n62. '一度'\n63. '以為'\n64. '麥克風'\n65. '有'\n66. '問題'\n67. '上前'\n68. '想'\n69. '幫忙'\n70. '調整'\n71. '最後'\n72. '他'\n73. '表示'\n74. '自己'\n75. '失態'\n76. '了'\n77. '陳'\n78. '吉仲說'\n79. '中興大學'\n80. '有'\n81. '多位'\n82. '老師'\n83. '罹患'\n84. '肺'\n85. '腺癌'\n86. '現場'\n87. '就'\n88. '有'\n89. '一位'\n90. '老師'\n91. '就是'\n92. '患者'\n93. '他'\n94. '說'\n95. '中南部'\n96. '的'\n97. '民眾'\n98. '有'\n99. '多少'\n100. '人'\n101. '希望'\n102. '政府'\n103. '能夠'\n104. '減煤'\n105. '降空'\n106. '汙'\n107. '陳'\n108. '吉仲說'\n109. '不是'\n110. '說要'\n111. '減煤'\n112. '降空'\n113. '汙'\n114. '就要'\n115. '影響'\n116. '藻礁'\n117. '但'\n118. '也'\n119. '不能'\n120. '因'\n121. '保護'\n122. '大家'\n123. '的'\n124. '影響'\n125. '減煤'\n126. '步伐'\n127. '要'\n128. '找到'\n129. '多贏'\n\n\n",
            "text/html": [
              "<style>\n",
              ".list-inline {list-style: none; margin:0; padding: 0}\n",
              ".list-inline>li {display: inline-block}\n",
              ".list-inline>li:not(:last-child)::after {content: \"\\00b7\"; padding: 0 .5ex}\n",
              "</style>\n",
              "<ol class=list-inline><li>'中興大學'</li><li>'今'</li><li>'舉辦'</li><li>'重'</li><li>'啟'</li><li>'溝通'</li><li>'丶'</li><li>'共尋'</li><li>'雙贏'</li><li>'方案'</li><li>'邀請'</li><li>'專家學者'</li><li>'與'</li><li>'談'</li><li>'農委會'</li><li>'主委'</li><li>'陳'</li><li>'吉仲'</li><li>'説'</li><li>'如果'</li><li>'藻礁'</li><li>'公投'</li><li>'過了'</li><li>'政府'</li><li>'能源'</li><li>'轉型'</li><li>'就'</li><li>'不能'</li><li>'這麼'</li><li>'順利'</li><li>'了'</li><li>'未來'</li><li>'建'</li><li>'天然氣'</li><li>'接收站'</li><li>'也'</li><li>'不能'</li><li>'順利'</li><li>'了'</li><li>'陳'</li><li>'吉仲說'</li><li>'到'</li><li>'一半'</li><li>'突然'</li><li>'指著'</li><li>'對面'</li><li>'座位'</li><li>'席'</li><li>'一時'</li><li>'說不出'</li><li>'話'</li><li>'來'</li><li>'幾度'</li><li>'哽咽'</li><li>'在場'</li><li>'多'</li><li>'不知'</li><li>'發生'</li><li>'什麼'</li><li>'事'</li><li>'工作人員'</li><li>'一度'</li><li>'以為'</li><li>'麥克風'</li><li>'有'</li><li>'問題'</li><li>'上前'</li><li>'想'</li><li>'幫忙'</li><li>'調整'</li><li>'最後'</li><li>'他'</li><li>'表示'</li><li>'自己'</li><li>'失態'</li><li>'了'</li><li>'陳'</li><li>'吉仲說'</li><li>'中興大學'</li><li>'有'</li><li>'多位'</li><li>'老師'</li><li>'罹患'</li><li>'肺'</li><li>'腺癌'</li><li>'現場'</li><li>'就'</li><li>'有'</li><li>'一位'</li><li>'老師'</li><li>'就是'</li><li>'患者'</li><li>'他'</li><li>'說'</li><li>'中南部'</li><li>'的'</li><li>'民眾'</li><li>'有'</li><li>'多少'</li><li>'人'</li><li>'希望'</li><li>'政府'</li><li>'能夠'</li><li>'減煤'</li><li>'降空'</li><li>'汙'</li><li>'陳'</li><li>'吉仲說'</li><li>'不是'</li><li>'說要'</li><li>'減煤'</li><li>'降空'</li><li>'汙'</li><li>'就要'</li><li>'影響'</li><li>'藻礁'</li><li>'但'</li><li>'也'</li><li>'不能'</li><li>'因'</li><li>'保護'</li><li>'大家'</li><li>'的'</li><li>'影響'</li><li>'減煤'</li><li>'步伐'</li><li>'要'</li><li>'找到'</li><li>'多贏'</li></ol>\n"
            ]
          },
          "metadata": {
            "tags": []
          }
        }
      ]
    },
    {
      "cell_type": "code",
      "metadata": {
        "id": "UEZNsCODOTcR"
      },
      "source": [
        "new_words <- c(\"中興大學\",\"農委會\",\"陳吉仲\")\n",
        "for(i in 1:length(new_words)){\n",
        "  new_user_word(cutter,new_words[i])\n",
        "}"
      ],
      "execution_count": 11,
      "outputs": []
    },
    {
      "cell_type": "code",
      "metadata": {
        "colab": {
          "base_uri": "https://localhost:8080/",
          "height": 136
        },
        "id": "vqzIDxjUOwUQ",
        "outputId": "c27bb86f-66e8-4e88-cb49-ae20a72c053e"
      },
      "source": [
        "content <- str_remove_all(content,\"[0-9a-zA-Z]+?\")\n",
        "cutter[content]"
      ],
      "execution_count": 12,
      "outputs": [
        {
          "output_type": "display_data",
          "data": {
            "text/plain": [
              "  [1] \"中興大學\" \"今\"       \"舉辦\"     \"重\"       \"啟\"       \"溝通\"    \n",
              "  [7] \"丶\"       \"共尋\"     \"雙贏\"     \"方案\"     \"邀請\"     \"專家學者\"\n",
              " [13] \"與\"       \"談\"       \"農委會\"   \"主委\"     \"陳吉仲\"   \"説\"      \n",
              " [19] \"如果\"     \"藻礁\"     \"公投\"     \"過了\"     \"政府\"     \"能源\"    \n",
              " [25] \"轉型\"     \"就\"       \"不能\"     \"這麼\"     \"順利\"     \"了\"      \n",
              " [31] \"未來\"     \"建\"       \"天然氣\"   \"接收站\"   \"也\"       \"不能\"    \n",
              " [37] \"順利\"     \"了\"       \"陳吉仲\"   \"說\"       \"到\"       \"一半\"    \n",
              " [43] \"突然\"     \"指著\"     \"對面\"     \"座位\"     \"席\"       \"一時\"    \n",
              " [49] \"說不出\"   \"話\"       \"來\"       \"幾度\"     \"哽咽\"     \"在場\"    \n",
              " [55] \"多\"       \"不知\"     \"發生\"     \"什麼\"     \"事\"       \"工作人員\"\n",
              " [61] \"一度\"     \"以為\"     \"麥克風\"   \"有\"       \"問題\"     \"上前\"    \n",
              " [67] \"想\"       \"幫忙\"     \"調整\"     \"最後\"     \"他\"       \"表示\"    \n",
              " [73] \"自己\"     \"失態\"     \"了\"       \"陳吉仲\"   \"說\"       \"中興大學\"\n",
              " [79] \"有\"       \"多位\"     \"老師\"     \"罹患\"     \"肺\"       \"腺癌\"    \n",
              " [85] \"現場\"     \"就\"       \"有\"       \"一位\"     \"老師\"     \"就是\"    \n",
              " [91] \"患者\"     \"他\"       \"說\"       \"中南部\"   \"的\"       \"民眾\"    \n",
              " [97] \"有\"       \"多少\"     \"人\"       \"希望\"     \"政府\"     \"能夠\"    \n",
              "[103] \"減煤\"     \"降空\"     \"汙\"       \"陳吉仲\"   \"說\"       \"不是\"    \n",
              "[109] \"說要\"     \"減煤\"     \"降空\"     \"汙\"       \"就要\"     \"影響\"    \n",
              "[115] \"藻礁\"     \"但\"       \"也\"       \"不能\"     \"因\"       \"保護\"    \n",
              "[121] \"大家\"     \"的\"       \"影響\"     \"減煤\"     \"步伐\"     \"要\"      \n",
              "[127] \"找到\"     \"多贏\"    "
            ],
            "text/latex": "\\begin{enumerate*}\n\\item '中興大學'\n\\item '今'\n\\item '舉辦'\n\\item '重'\n\\item '啟'\n\\item '溝通'\n\\item '丶'\n\\item '共尋'\n\\item '雙贏'\n\\item '方案'\n\\item '邀請'\n\\item '專家學者'\n\\item '與'\n\\item '談'\n\\item '農委會'\n\\item '主委'\n\\item '陳吉仲'\n\\item '説'\n\\item '如果'\n\\item '藻礁'\n\\item '公投'\n\\item '過了'\n\\item '政府'\n\\item '能源'\n\\item '轉型'\n\\item '就'\n\\item '不能'\n\\item '這麼'\n\\item '順利'\n\\item '了'\n\\item '未來'\n\\item '建'\n\\item '天然氣'\n\\item '接收站'\n\\item '也'\n\\item '不能'\n\\item '順利'\n\\item '了'\n\\item '陳吉仲'\n\\item '說'\n\\item '到'\n\\item '一半'\n\\item '突然'\n\\item '指著'\n\\item '對面'\n\\item '座位'\n\\item '席'\n\\item '一時'\n\\item '說不出'\n\\item '話'\n\\item '來'\n\\item '幾度'\n\\item '哽咽'\n\\item '在場'\n\\item '多'\n\\item '不知'\n\\item '發生'\n\\item '什麼'\n\\item '事'\n\\item '工作人員'\n\\item '一度'\n\\item '以為'\n\\item '麥克風'\n\\item '有'\n\\item '問題'\n\\item '上前'\n\\item '想'\n\\item '幫忙'\n\\item '調整'\n\\item '最後'\n\\item '他'\n\\item '表示'\n\\item '自己'\n\\item '失態'\n\\item '了'\n\\item '陳吉仲'\n\\item '說'\n\\item '中興大學'\n\\item '有'\n\\item '多位'\n\\item '老師'\n\\item '罹患'\n\\item '肺'\n\\item '腺癌'\n\\item '現場'\n\\item '就'\n\\item '有'\n\\item '一位'\n\\item '老師'\n\\item '就是'\n\\item '患者'\n\\item '他'\n\\item '說'\n\\item '中南部'\n\\item '的'\n\\item '民眾'\n\\item '有'\n\\item '多少'\n\\item '人'\n\\item '希望'\n\\item '政府'\n\\item '能夠'\n\\item '減煤'\n\\item '降空'\n\\item '汙'\n\\item '陳吉仲'\n\\item '說'\n\\item '不是'\n\\item '說要'\n\\item '減煤'\n\\item '降空'\n\\item '汙'\n\\item '就要'\n\\item '影響'\n\\item '藻礁'\n\\item '但'\n\\item '也'\n\\item '不能'\n\\item '因'\n\\item '保護'\n\\item '大家'\n\\item '的'\n\\item '影響'\n\\item '減煤'\n\\item '步伐'\n\\item '要'\n\\item '找到'\n\\item '多贏'\n\\end{enumerate*}\n",
            "text/markdown": "1. '中興大學'\n2. '今'\n3. '舉辦'\n4. '重'\n5. '啟'\n6. '溝通'\n7. '丶'\n8. '共尋'\n9. '雙贏'\n10. '方案'\n11. '邀請'\n12. '專家學者'\n13. '與'\n14. '談'\n15. '農委會'\n16. '主委'\n17. '陳吉仲'\n18. '説'\n19. '如果'\n20. '藻礁'\n21. '公投'\n22. '過了'\n23. '政府'\n24. '能源'\n25. '轉型'\n26. '就'\n27. '不能'\n28. '這麼'\n29. '順利'\n30. '了'\n31. '未來'\n32. '建'\n33. '天然氣'\n34. '接收站'\n35. '也'\n36. '不能'\n37. '順利'\n38. '了'\n39. '陳吉仲'\n40. '說'\n41. '到'\n42. '一半'\n43. '突然'\n44. '指著'\n45. '對面'\n46. '座位'\n47. '席'\n48. '一時'\n49. '說不出'\n50. '話'\n51. '來'\n52. '幾度'\n53. '哽咽'\n54. '在場'\n55. '多'\n56. '不知'\n57. '發生'\n58. '什麼'\n59. '事'\n60. '工作人員'\n61. '一度'\n62. '以為'\n63. '麥克風'\n64. '有'\n65. '問題'\n66. '上前'\n67. '想'\n68. '幫忙'\n69. '調整'\n70. '最後'\n71. '他'\n72. '表示'\n73. '自己'\n74. '失態'\n75. '了'\n76. '陳吉仲'\n77. '說'\n78. '中興大學'\n79. '有'\n80. '多位'\n81. '老師'\n82. '罹患'\n83. '肺'\n84. '腺癌'\n85. '現場'\n86. '就'\n87. '有'\n88. '一位'\n89. '老師'\n90. '就是'\n91. '患者'\n92. '他'\n93. '說'\n94. '中南部'\n95. '的'\n96. '民眾'\n97. '有'\n98. '多少'\n99. '人'\n100. '希望'\n101. '政府'\n102. '能夠'\n103. '減煤'\n104. '降空'\n105. '汙'\n106. '陳吉仲'\n107. '說'\n108. '不是'\n109. '說要'\n110. '減煤'\n111. '降空'\n112. '汙'\n113. '就要'\n114. '影響'\n115. '藻礁'\n116. '但'\n117. '也'\n118. '不能'\n119. '因'\n120. '保護'\n121. '大家'\n122. '的'\n123. '影響'\n124. '減煤'\n125. '步伐'\n126. '要'\n127. '找到'\n128. '多贏'\n\n\n",
            "text/html": [
              "<style>\n",
              ".list-inline {list-style: none; margin:0; padding: 0}\n",
              ".list-inline>li {display: inline-block}\n",
              ".list-inline>li:not(:last-child)::after {content: \"\\00b7\"; padding: 0 .5ex}\n",
              "</style>\n",
              "<ol class=list-inline><li>'中興大學'</li><li>'今'</li><li>'舉辦'</li><li>'重'</li><li>'啟'</li><li>'溝通'</li><li>'丶'</li><li>'共尋'</li><li>'雙贏'</li><li>'方案'</li><li>'邀請'</li><li>'專家學者'</li><li>'與'</li><li>'談'</li><li>'農委會'</li><li>'主委'</li><li>'陳吉仲'</li><li>'説'</li><li>'如果'</li><li>'藻礁'</li><li>'公投'</li><li>'過了'</li><li>'政府'</li><li>'能源'</li><li>'轉型'</li><li>'就'</li><li>'不能'</li><li>'這麼'</li><li>'順利'</li><li>'了'</li><li>'未來'</li><li>'建'</li><li>'天然氣'</li><li>'接收站'</li><li>'也'</li><li>'不能'</li><li>'順利'</li><li>'了'</li><li>'陳吉仲'</li><li>'說'</li><li>'到'</li><li>'一半'</li><li>'突然'</li><li>'指著'</li><li>'對面'</li><li>'座位'</li><li>'席'</li><li>'一時'</li><li>'說不出'</li><li>'話'</li><li>'來'</li><li>'幾度'</li><li>'哽咽'</li><li>'在場'</li><li>'多'</li><li>'不知'</li><li>'發生'</li><li>'什麼'</li><li>'事'</li><li>'工作人員'</li><li>'一度'</li><li>'以為'</li><li>'麥克風'</li><li>'有'</li><li>'問題'</li><li>'上前'</li><li>'想'</li><li>'幫忙'</li><li>'調整'</li><li>'最後'</li><li>'他'</li><li>'表示'</li><li>'自己'</li><li>'失態'</li><li>'了'</li><li>'陳吉仲'</li><li>'說'</li><li>'中興大學'</li><li>'有'</li><li>'多位'</li><li>'老師'</li><li>'罹患'</li><li>'肺'</li><li>'腺癌'</li><li>'現場'</li><li>'就'</li><li>'有'</li><li>'一位'</li><li>'老師'</li><li>'就是'</li><li>'患者'</li><li>'他'</li><li>'說'</li><li>'中南部'</li><li>'的'</li><li>'民眾'</li><li>'有'</li><li>'多少'</li><li>'人'</li><li>'希望'</li><li>'政府'</li><li>'能夠'</li><li>'減煤'</li><li>'降空'</li><li>'汙'</li><li>'陳吉仲'</li><li>'說'</li><li>'不是'</li><li>'說要'</li><li>'減煤'</li><li>'降空'</li><li>'汙'</li><li>'就要'</li><li>'影響'</li><li>'藻礁'</li><li>'但'</li><li>'也'</li><li>'不能'</li><li>'因'</li><li>'保護'</li><li>'大家'</li><li>'的'</li><li>'影響'</li><li>'減煤'</li><li>'步伐'</li><li>'要'</li><li>'找到'</li><li>'多贏'</li></ol>\n"
            ]
          },
          "metadata": {
            "tags": []
          }
        }
      ]
    },
    {
      "cell_type": "code",
      "metadata": {
        "id": "iTETJSX6PEzp"
      },
      "source": [
        "new_words <- c(\"中興大學\",\"農委會\",\"陳吉仲\")\n",
        "writeLines(new_words,\"new_words.txt\")"
      ],
      "execution_count": 13,
      "outputs": []
    },
    {
      "cell_type": "code",
      "metadata": {
        "id": "l2B7GWBwPfdR"
      },
      "source": [
        "stop_words <- c(\"在\",\"之\",\"更\",\"個\",\"未\",\"而\",\"也\",\"與\",\"的\",\"了\",\"就\",\"說\",\"有\",\"不能\",\"汙\")\n",
        "writeLines(stop_words,\"stop_words.txt\")"
      ],
      "execution_count": 20,
      "outputs": []
    },
    {
      "cell_type": "code",
      "metadata": {
        "colab": {
          "base_uri": "https://localhost:8080/",
          "height": 119
        },
        "id": "8BUCP4nbP3ox",
        "outputId": "f24a9260-98d4-483b-8bb7-a5bce1f7bd4d"
      },
      "source": [
        "cutter <- worker(user=\"new_words.txt\",stop_word=\"stop_words.txt\",bylines=FALSE)\n",
        "seg_words <- cutter[content]\n",
        "seg_words"
      ],
      "execution_count": 21,
      "outputs": [
        {
          "output_type": "display_data",
          "data": {
            "text/plain": [
              "  [1] \"中興大學\" \"今\"       \"舉辦\"     \"重\"       \"啟\"       \"溝通\"    \n",
              "  [7] \"丶\"       \"共尋\"     \"雙贏\"     \"方案\"     \"邀請\"     \"專家學者\"\n",
              " [13] \"談\"       \"農委會\"   \"主委\"     \"陳吉仲\"   \"説\"       \"如果\"    \n",
              " [19] \"藻礁\"     \"公投\"     \"過了\"     \"政府\"     \"能源\"     \"轉型\"    \n",
              " [25] \"這麼\"     \"順利\"     \"未來\"     \"建\"       \"天然氣\"   \"接收站\"  \n",
              " [31] \"順利\"     \"陳吉仲\"   \"到\"       \"一半\"     \"突然\"     \"指著\"    \n",
              " [37] \"對面\"     \"座位\"     \"席\"       \"一時\"     \"說不出\"   \"話\"      \n",
              " [43] \"來\"       \"幾度\"     \"哽咽\"     \"在場\"     \"多\"       \"不知\"    \n",
              " [49] \"發生\"     \"什麼\"     \"事\"       \"工作人員\" \"一度\"     \"以為\"    \n",
              " [55] \"麥克風\"   \"問題\"     \"上前\"     \"想\"       \"幫忙\"     \"調整\"    \n",
              " [61] \"最後\"     \"他\"       \"表示\"     \"自己\"     \"失態\"     \"陳吉仲\"  \n",
              " [67] \"中興大學\" \"多位\"     \"老師\"     \"罹患\"     \"肺\"       \"腺癌\"    \n",
              " [73] \"現場\"     \"一位\"     \"老師\"     \"就是\"     \"患者\"     \"他\"      \n",
              " [79] \"中南部\"   \"民眾\"     \"多少\"     \"人\"       \"希望\"     \"政府\"    \n",
              " [85] \"能夠\"     \"減煤\"     \"降空\"     \"陳吉仲\"   \"不是\"     \"說要\"    \n",
              " [91] \"減煤\"     \"降空\"     \"就要\"     \"影響\"     \"藻礁\"     \"但\"      \n",
              " [97] \"因\"       \"保護\"     \"大家\"     \"影響\"     \"減煤\"     \"步伐\"    \n",
              "[103] \"要\"       \"找到\"     \"多贏\"    "
            ],
            "text/latex": "\\begin{enumerate*}\n\\item '中興大學'\n\\item '今'\n\\item '舉辦'\n\\item '重'\n\\item '啟'\n\\item '溝通'\n\\item '丶'\n\\item '共尋'\n\\item '雙贏'\n\\item '方案'\n\\item '邀請'\n\\item '專家學者'\n\\item '談'\n\\item '農委會'\n\\item '主委'\n\\item '陳吉仲'\n\\item '説'\n\\item '如果'\n\\item '藻礁'\n\\item '公投'\n\\item '過了'\n\\item '政府'\n\\item '能源'\n\\item '轉型'\n\\item '這麼'\n\\item '順利'\n\\item '未來'\n\\item '建'\n\\item '天然氣'\n\\item '接收站'\n\\item '順利'\n\\item '陳吉仲'\n\\item '到'\n\\item '一半'\n\\item '突然'\n\\item '指著'\n\\item '對面'\n\\item '座位'\n\\item '席'\n\\item '一時'\n\\item '說不出'\n\\item '話'\n\\item '來'\n\\item '幾度'\n\\item '哽咽'\n\\item '在場'\n\\item '多'\n\\item '不知'\n\\item '發生'\n\\item '什麼'\n\\item '事'\n\\item '工作人員'\n\\item '一度'\n\\item '以為'\n\\item '麥克風'\n\\item '問題'\n\\item '上前'\n\\item '想'\n\\item '幫忙'\n\\item '調整'\n\\item '最後'\n\\item '他'\n\\item '表示'\n\\item '自己'\n\\item '失態'\n\\item '陳吉仲'\n\\item '中興大學'\n\\item '多位'\n\\item '老師'\n\\item '罹患'\n\\item '肺'\n\\item '腺癌'\n\\item '現場'\n\\item '一位'\n\\item '老師'\n\\item '就是'\n\\item '患者'\n\\item '他'\n\\item '中南部'\n\\item '民眾'\n\\item '多少'\n\\item '人'\n\\item '希望'\n\\item '政府'\n\\item '能夠'\n\\item '減煤'\n\\item '降空'\n\\item '陳吉仲'\n\\item '不是'\n\\item '說要'\n\\item '減煤'\n\\item '降空'\n\\item '就要'\n\\item '影響'\n\\item '藻礁'\n\\item '但'\n\\item '因'\n\\item '保護'\n\\item '大家'\n\\item '影響'\n\\item '減煤'\n\\item '步伐'\n\\item '要'\n\\item '找到'\n\\item '多贏'\n\\end{enumerate*}\n",
            "text/markdown": "1. '中興大學'\n2. '今'\n3. '舉辦'\n4. '重'\n5. '啟'\n6. '溝通'\n7. '丶'\n8. '共尋'\n9. '雙贏'\n10. '方案'\n11. '邀請'\n12. '專家學者'\n13. '談'\n14. '農委會'\n15. '主委'\n16. '陳吉仲'\n17. '説'\n18. '如果'\n19. '藻礁'\n20. '公投'\n21. '過了'\n22. '政府'\n23. '能源'\n24. '轉型'\n25. '這麼'\n26. '順利'\n27. '未來'\n28. '建'\n29. '天然氣'\n30. '接收站'\n31. '順利'\n32. '陳吉仲'\n33. '到'\n34. '一半'\n35. '突然'\n36. '指著'\n37. '對面'\n38. '座位'\n39. '席'\n40. '一時'\n41. '說不出'\n42. '話'\n43. '來'\n44. '幾度'\n45. '哽咽'\n46. '在場'\n47. '多'\n48. '不知'\n49. '發生'\n50. '什麼'\n51. '事'\n52. '工作人員'\n53. '一度'\n54. '以為'\n55. '麥克風'\n56. '問題'\n57. '上前'\n58. '想'\n59. '幫忙'\n60. '調整'\n61. '最後'\n62. '他'\n63. '表示'\n64. '自己'\n65. '失態'\n66. '陳吉仲'\n67. '中興大學'\n68. '多位'\n69. '老師'\n70. '罹患'\n71. '肺'\n72. '腺癌'\n73. '現場'\n74. '一位'\n75. '老師'\n76. '就是'\n77. '患者'\n78. '他'\n79. '中南部'\n80. '民眾'\n81. '多少'\n82. '人'\n83. '希望'\n84. '政府'\n85. '能夠'\n86. '減煤'\n87. '降空'\n88. '陳吉仲'\n89. '不是'\n90. '說要'\n91. '減煤'\n92. '降空'\n93. '就要'\n94. '影響'\n95. '藻礁'\n96. '但'\n97. '因'\n98. '保護'\n99. '大家'\n100. '影響'\n101. '減煤'\n102. '步伐'\n103. '要'\n104. '找到'\n105. '多贏'\n\n\n",
            "text/html": [
              "<style>\n",
              ".list-inline {list-style: none; margin:0; padding: 0}\n",
              ".list-inline>li {display: inline-block}\n",
              ".list-inline>li:not(:last-child)::after {content: \"\\00b7\"; padding: 0 .5ex}\n",
              "</style>\n",
              "<ol class=list-inline><li>'中興大學'</li><li>'今'</li><li>'舉辦'</li><li>'重'</li><li>'啟'</li><li>'溝通'</li><li>'丶'</li><li>'共尋'</li><li>'雙贏'</li><li>'方案'</li><li>'邀請'</li><li>'專家學者'</li><li>'談'</li><li>'農委會'</li><li>'主委'</li><li>'陳吉仲'</li><li>'説'</li><li>'如果'</li><li>'藻礁'</li><li>'公投'</li><li>'過了'</li><li>'政府'</li><li>'能源'</li><li>'轉型'</li><li>'這麼'</li><li>'順利'</li><li>'未來'</li><li>'建'</li><li>'天然氣'</li><li>'接收站'</li><li>'順利'</li><li>'陳吉仲'</li><li>'到'</li><li>'一半'</li><li>'突然'</li><li>'指著'</li><li>'對面'</li><li>'座位'</li><li>'席'</li><li>'一時'</li><li>'說不出'</li><li>'話'</li><li>'來'</li><li>'幾度'</li><li>'哽咽'</li><li>'在場'</li><li>'多'</li><li>'不知'</li><li>'發生'</li><li>'什麼'</li><li>'事'</li><li>'工作人員'</li><li>'一度'</li><li>'以為'</li><li>'麥克風'</li><li>'問題'</li><li>'上前'</li><li>'想'</li><li>'幫忙'</li><li>'調整'</li><li>'最後'</li><li>'他'</li><li>'表示'</li><li>'自己'</li><li>'失態'</li><li>'陳吉仲'</li><li>'中興大學'</li><li>'多位'</li><li>'老師'</li><li>'罹患'</li><li>'肺'</li><li>'腺癌'</li><li>'現場'</li><li>'一位'</li><li>'老師'</li><li>'就是'</li><li>'患者'</li><li>'他'</li><li>'中南部'</li><li>'民眾'</li><li>'多少'</li><li>'人'</li><li>'希望'</li><li>'政府'</li><li>'能夠'</li><li>'減煤'</li><li>'降空'</li><li>'陳吉仲'</li><li>'不是'</li><li>'說要'</li><li>'減煤'</li><li>'降空'</li><li>'就要'</li><li>'影響'</li><li>'藻礁'</li><li>'但'</li><li>'因'</li><li>'保護'</li><li>'大家'</li><li>'影響'</li><li>'減煤'</li><li>'步伐'</li><li>'要'</li><li>'找到'</li><li>'多贏'</li></ol>\n"
            ]
          },
          "metadata": {
            "tags": []
          }
        }
      ]
    },
    {
      "cell_type": "code",
      "metadata": {
        "colab": {
          "base_uri": "https://localhost:8080/",
          "height": 283
        },
        "id": "FEK1CNi2QNQP",
        "outputId": "2ddf7b29-3d67-4b5a-f70e-12736a942636"
      },
      "source": [
        "txt_freq <- freq(seg_words)\n",
        "txt_freq <- arrange(txt_freq,desc(freq))\n",
        "head(txt_freq)"
      ],
      "execution_count": 22,
      "outputs": [
        {
          "output_type": "display_data",
          "data": {
            "text/plain": [
              "  char   freq\n",
              "1 陳吉仲 4   \n",
              "2 減煤   3   \n",
              "3 影響   2   \n",
              "4 降空   2   \n",
              "5 政府   2   \n",
              "6 順利   2   "
            ],
            "text/latex": "A data.frame: 6 × 2\n\\begin{tabular}{r|ll}\n  & char & freq\\\\\n  & <chr> & <dbl>\\\\\n\\hline\n\t1 & 陳吉仲 & 4\\\\\n\t2 & 減煤   & 3\\\\\n\t3 & 影響   & 2\\\\\n\t4 & 降空   & 2\\\\\n\t5 & 政府   & 2\\\\\n\t6 & 順利   & 2\\\\\n\\end{tabular}\n",
            "text/markdown": "\nA data.frame: 6 × 2\n\n| <!--/--> | char &lt;chr&gt; | freq &lt;dbl&gt; |\n|---|---|---|\n| 1 | 陳吉仲 | 4 |\n| 2 | 減煤   | 3 |\n| 3 | 影響   | 2 |\n| 4 | 降空   | 2 |\n| 5 | 政府   | 2 |\n| 6 | 順利   | 2 |\n\n",
            "text/html": [
              "<table class=\"dataframe\">\n",
              "<caption>A data.frame: 6 × 2</caption>\n",
              "<thead>\n",
              "\t<tr><th></th><th scope=col>char</th><th scope=col>freq</th></tr>\n",
              "\t<tr><th></th><th scope=col>&lt;chr&gt;</th><th scope=col>&lt;dbl&gt;</th></tr>\n",
              "</thead>\n",
              "<tbody>\n",
              "\t<tr><th scope=row>1</th><td>陳吉仲</td><td>4</td></tr>\n",
              "\t<tr><th scope=row>2</th><td>減煤  </td><td>3</td></tr>\n",
              "\t<tr><th scope=row>3</th><td>影響  </td><td>2</td></tr>\n",
              "\t<tr><th scope=row>4</th><td>降空  </td><td>2</td></tr>\n",
              "\t<tr><th scope=row>5</th><td>政府  </td><td>2</td></tr>\n",
              "\t<tr><th scope=row>6</th><td>順利  </td><td>2</td></tr>\n",
              "</tbody>\n",
              "</table>\n"
            ]
          },
          "metadata": {
            "tags": []
          }
        }
      ]
    },
    {
      "cell_type": "code",
      "metadata": {
        "colab": {
          "base_uri": "https://localhost:8080/"
        },
        "id": "Tl-vuK-YXD8H",
        "outputId": "909bc488-d479-4d3f-9e3f-c95aea8a2db6"
      },
      "source": [
        "install.packages(\"showtext\")"
      ],
      "execution_count": 23,
      "outputs": [
        {
          "output_type": "stream",
          "text": [
            "Installing package into ‘/usr/local/lib/R/site-library’\n",
            "(as ‘lib’ is unspecified)\n",
            "\n"
          ],
          "name": "stderr"
        }
      ]
    },
    {
      "cell_type": "code",
      "metadata": {
        "id": "qWF1Y6I4XLNA",
        "colab": {
          "base_uri": "https://localhost:8080/"
        },
        "outputId": "d2596626-f8e6-4eff-be4f-a30c651b21c5"
      },
      "source": [
        "library(showtext)"
      ],
      "execution_count": 24,
      "outputs": [
        {
          "output_type": "stream",
          "text": [
            "Loading required package: sysfonts\n",
            "\n",
            "Loading required package: showtextdb\n",
            "\n"
          ],
          "name": "stderr"
        }
      ]
    },
    {
      "cell_type": "code",
      "metadata": {
        "colab": {
          "base_uri": "https://localhost:8080/"
        },
        "id": "MQRfQvHtYAZ5",
        "outputId": "9ace5a9c-6212-43c3-9e2b-58bc47a0681b"
      },
      "source": [
        "showtext.auto(enable=TRUE)"
      ],
      "execution_count": 25,
      "outputs": [
        {
          "output_type": "stream",
          "text": [
            "'showtext.auto()' is now renamed to 'showtext_auto()'\n",
            "The old version still works, but consider using the new function in future code\n",
            "\n"
          ],
          "name": "stderr"
        }
      ]
    },
    {
      "cell_type": "code",
      "metadata": {
        "colab": {
          "base_uri": "https://localhost:8080/",
          "height": 437
        },
        "id": "Vxsxc5N8Qdrx",
        "outputId": "01e7edd7-b10a-4d24-a81b-c67ecc81a2ad"
      },
      "source": [
        "par(family=(\"wqy-microhei\"))\n",
        "wordcloud(txt_freq$char,txt_freq$freq,min.freq=2,random.order=F,ordered.colors=F,colors=rainbow(nrow(txt_freq)))"
      ],
      "execution_count": 26,
      "outputs": [
        {
          "output_type": "display_data",
          "data": {
            "image/png": "[encoded data removed]",
            "text/plain": [
              "plot without title"
            ]
          },
          "metadata": {
            "tags": [],
            "image/png": {
              "width": 420,
              "height": 420
            }
          }
        }
      ]
    }
  ]
}